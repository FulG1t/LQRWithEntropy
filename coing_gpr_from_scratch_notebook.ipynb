{
 "cells": [
  {
   "cell_type": "markdown",
   "id": "117d3726",
   "metadata": {},
   "source": [
    "# Gaussian process regression - hands on implementation"
   ]
  },
  {
   "cell_type": "markdown",
   "id": "87a6f995",
   "metadata": {},
   "source": [
    "## Overview"
   ]
  },
  {
   "cell_type": "markdown",
   "id": "dcb462c6",
   "metadata": {},
   "source": [
    "This notebook contains a complete implementation of a Gaussian Process Regressor (GPR) with a squared exponential kernel using Numpy for matrix operations and Plotly for visualisation. \n",
    "\n",
    "The purpose of this notebook is to understand the main components of a GPR and to visualise the effects of certain parameters on the output. \n",
    "It is _not_ intended as a theoretical introduction to GPRs.\n",
    "A good introduction can be found [here](http://www.gaussianprocess.org/gpml/chapters/RW.pdf). \n",
    "\n",
    "Stable and effective implementations of GPR's are available, for example, in the [gpytorch](https://gpytorch.ai) package."
   ]
  },
  {
   "cell_type": "markdown",
   "id": "bfc98796",
   "metadata": {},
   "source": [
    "## Packages"
   ]
  },
  {
   "cell_type": "code",
   "execution_count": 30,
   "id": "b48ebe22",
   "metadata": {},
   "outputs": [],
   "source": [
    "import numpy as np\n",
    "import plotly.graph_objects as go\n",
    "from ipywidgets import interact, widgets"
   ]
  },
  {
   "cell_type": "markdown",
   "id": "4575ccbd",
   "metadata": {},
   "source": [
    "## Plotting helper functions"
   ]
  },
  {
   "cell_type": "markdown",
   "id": "caa8c0bf",
   "metadata": {},
   "source": [
    "To have nice visualizations of the later GPR, we use Plotly and to have structured and lean code, we define a few commonly used 'helpers' here. "
   ]
  },
  {
   "cell_type": "code",
   "execution_count": 31,
   "id": "ad8a0219",
   "metadata": {
    "code_folding": [
     0
    ]
   },
   "outputs": [],
   "source": [
    "def update_layout_of_graph(fig: go.Figure,title: str = 'Plot')->go.Figure:\n",
    "    fig.update_layout(\n",
    "        width=800,\n",
    "        height=600,\n",
    "        autosize=False,\n",
    "        plot_bgcolor='rgba(0,0,0,0)',\n",
    "        title=title,\n",
    "        \n",
    "    )\n",
    "    fig.update_layout(plot_bgcolor='rgba(0,0,0,0)',\n",
    "                      xaxis_title = 'input values',\n",
    "                      yaxis_title = 'output values',\n",
    "                      legend=dict(yanchor=\"top\",\n",
    "                                  y=0.9,\n",
    "                                  xanchor=\"right\",\n",
    "                                  x=0.95),\n",
    "                      title={\n",
    "                          'x': 0.5,\n",
    "                          'xanchor': 'center'\n",
    "                      })\n",
    "    fig.update_xaxes(showline=True, linewidth=1, linecolor='black')\n",
    "    fig.update_yaxes(showline=True, linewidth=1, linecolor='black')\n",
    "    return fig"
   ]
  },
  {
   "cell_type": "code",
   "execution_count": 32,
   "id": "66e5a661",
   "metadata": {
    "code_folding": [
     0,
     6
    ]
   },
   "outputs": [],
   "source": [
    "def line_scatter(\n",
    "    visible: bool = True,\n",
    "    x_lines: np.array = np.array([]),\n",
    "    y_lines: np.array = np.array([]),\n",
    "    name_line: str = 'Predicted function',\n",
    "    showlegend: bool = True,\n",
    ") -> go.Scatter:\n",
    "    # Adding the lines\n",
    "    return go.Scatter(\n",
    "        visible=visible,\n",
    "        line=dict(color=\"blue\", width=2),\n",
    "        x=x_lines,\n",
    "        y=y_lines,\n",
    "        name=name_line,\n",
    "        showlegend= showlegend\n",
    "    )"
   ]
  },
  {
   "cell_type": "code",
   "execution_count": 33,
   "id": "f0b4e5ac",
   "metadata": {
    "code_folding": [
     0,
     6
    ]
   },
   "outputs": [],
   "source": [
    "def dot_scatter(\n",
    "    visible: bool = True,\n",
    "    x_dots: np.array = np.array([]),\n",
    "    y_dots: np.array = np.array([]),\n",
    "    name_dots: str = 'Observed points',\n",
    "    showlegend: bool = True\n",
    ") -> go.Scatter:\n",
    "    # Adding the dots\n",
    "    return go.Scatter(\n",
    "        x=x_dots,\n",
    "        visible=visible,\n",
    "        y=y_dots,\n",
    "        mode=\"markers\",\n",
    "        name=name_dots,\n",
    "        marker=dict(color='red', size=8),\n",
    "        showlegend=showlegend\n",
    "    )"
   ]
  },
  {
   "cell_type": "code",
   "execution_count": 34,
   "id": "8dda25c4",
   "metadata": {
    "code_folding": [
     0,
     6
    ]
   },
   "outputs": [],
   "source": [
    "def uncertainty_area_scatter(\n",
    "        visible: bool = True,\n",
    "        x_lines: np.array = np.array([]),\n",
    "        y_upper: np.array = np.array([]),\n",
    "        y_lower: np.array = np.array([]),\n",
    "        name: str = \"mean plus/minus standard deviation\",\n",
    ") -> go.Scatter:\n",
    "\n",
    "    return go.Scatter(\n",
    "        visible=visible,\n",
    "        x=np.concatenate((x_lines, x_lines[::-1])),  # x, then x reversed\n",
    "        # upper, then lower reversed\n",
    "        y=np.concatenate((y_upper, y_lower[::-1])),\n",
    "        fill='toself',\n",
    "        fillcolor='rgba(189,195,199,0.5)',\n",
    "        line=dict(color='rgba(200,200,200,0)'),\n",
    "        hoverinfo=\"skip\",\n",
    "        showlegend=True,\n",
    "        name= name,\n",
    "    )"
   ]
  },
  {
   "cell_type": "code",
   "execution_count": 35,
   "id": "6a0be169",
   "metadata": {
    "code_folding": [
     0
    ]
   },
   "outputs": [],
   "source": [
    "def add_slider_GPR(figure: go.Figure, parameters):\n",
    "    figure.data[0].visible = True\n",
    "    figure.data[1].visible = True\n",
    "\n",
    "    # Create and add slider\n",
    "    steps = []\n",
    "    for i in range(int((len(figure.data) - 1) / 2)):\n",
    "        step = dict(\n",
    "            method=\"update\",\n",
    "            label=f'{parameters[i]: .2f}',\n",
    "            args=[{\n",
    "                \"visible\": [False] * (len(figure.data) - 1) + [True]\n",
    "            }],\n",
    "        )\n",
    "        step[\"args\"][0][\"visible\"][2 *\n",
    "                                   i] = True  # Toggle i'th trace to \"visible\"\n",
    "        step[\"args\"][0][\"visible\"][2 * i + 1] = True\n",
    "        steps.append(step)\n",
    "\n",
    "    sliders = [dict(\n",
    "        active=0,\n",
    "        pad={\"t\": 50},\n",
    "        steps=steps,\n",
    "    )]\n",
    "    figure.update_layout(sliders=sliders, )\n",
    "    return figure"
   ]
  },
  {
   "cell_type": "code",
   "execution_count": 36,
   "id": "cf44e383",
   "metadata": {
    "code_folding": [
     0
    ]
   },
   "outputs": [],
   "source": [
    "def add_slider_to_function(figure:go.Figure, parameters):\n",
    "    figure.data[0].visible = True\n",
    "\n",
    "    # Create and add slider\n",
    "    steps = []\n",
    "    for i in range(len(figure.data)):\n",
    "        step = dict(\n",
    "            method=\"update\",\n",
    "            label=f'{parameters[i]: .2f}',\n",
    "            args=[{\n",
    "                \"visible\": [False] *len(figure.data) \n",
    "            }],\n",
    "        )\n",
    "        step[\"args\"][0][\"visible\"][i] = True  # Toggle i'th trace to \"visible\"\n",
    "        steps.append(step)\n",
    "\n",
    "    sliders = [dict(\n",
    "        active=0,\n",
    "        pad={\"t\": 50},\n",
    "        steps=steps,\n",
    "    )]\n",
    "    figure.update_layout(sliders=sliders, )\n",
    "    return figure"
   ]
  },
  {
   "cell_type": "markdown",
   "id": "9058664e",
   "metadata": {},
   "source": [
    "## Implementation of GPR with squared exponential kernel"
   ]
  },
  {
   "cell_type": "markdown",
   "id": "fa792ab3",
   "metadata": {},
   "source": [
    "In order to define a gaussian process regressor (GPR) we need a covariance function (also called kernel). The choice of this function will determine the 'shape' of the later GPR. \n",
    "\n",
    "In this notebook we choose the popular _squared exponential_ kernel:\n",
    "$$ k(x_1,x_2):= \\sigma^2*\\exp(-\\|x_1-x_2\\|^2_2)/(2*l^2))$$\n",
    "with $$l>0$$ the lengthscale and $$\\sigma^2>0$$ the signal variance. \n",
    "You are encouraged to implement a different kernel and see the difference in the resulting GPR!\n",
    "\n"
   ]
  },
  {
   "cell_type": "code",
   "execution_count": 37,
   "id": "cbc55090",
   "metadata": {},
   "outputs": [],
   "source": [
    "class SquaredExponentialKernel:\n",
    "    def __init__(self, sigma_f: float = 1, length: float = 1):\n",
    "        self.sigma_f = sigma_f\n",
    "        self.length = length\n",
    "\n",
    "    def __call__(self, argument_1: np.array, argument_2: np.array) -> float:\n",
    "        return float(self.sigma_f *\n",
    "                     np.exp(-(np.linalg.norm(argument_1 - argument_2)**2) /\n",
    "                            (2 * self.length**2)))\n",
    "    "
   ]
  },
  {
   "cell_type": "markdown",
   "id": "b23258da",
   "metadata": {},
   "source": [
    "Let us visualize this kernel."
   ]
  },
  {
   "cell_type": "code",
   "execution_count": 38,
   "id": "e1cd79c0",
   "metadata": {},
   "outputs": [
    {
     "data": {
      "application/vnd.jupyter.widget-view+json": {
       "model_id": "3009e21212414b30b411cee8a0a17708",
       "version_major": 2,
       "version_minor": 0
      },
      "text/plain": [
       "interactive(children=(FloatSlider(value=1.0, description='length', max=3.0, min=0.1), FloatSlider(value=0.0, d…"
      ]
     },
     "metadata": {},
     "output_type": "display_data"
    },
    {
     "data": {
      "application/vnd.jupyter.widget-view+json": {
       "model_id": "64dc4b41034d41db81734d68c9639800",
       "version_major": 2,
       "version_minor": 0
      },
      "text/plain": [
       "FigureWidget({\n",
       "    'data': [{'line': {'color': 'blue', 'width': 2},\n",
       "              'name': 'Predicted function',\n",
       "              'showlegend': True,\n",
       "              'type': 'scatter',\n",
       "              'uid': '6b545b11-3ca5-48c8-8db6-5ace2b69367b',\n",
       "              'visible': True,\n",
       "              'x': {'bdata': ('AAAAAAAAJMDNzMzMzMwjwJqZmZmZmS' ... 'ZmZiNAcpmZmZmZI0CkzMzMzMwjQA=='),\n",
       "                    'dtype': 'f8'},\n",
       "              'y': {'bdata': ('Pwh+VH0lbTsp5QpwUbWDO4v/ANc0Y5' ... 'FLfbE7vxMB1zRjmju29ApwUbWDOw=='),\n",
       "                    'dtype': 'f8'}}],\n",
       "    'layout': {'autosize': False,\n",
       "               'height': 600,\n",
       "               'legend': {'x': 0.95, 'xanchor': 'right', 'y': 0.9, 'yanchor': 'top'},\n",
       "               'plot_bgcolor': 'rgba(0,0,0,0)',\n",
       "               'template': '...',\n",
       "               'title': {'text': 'Squared exponential kernel', 'x': 0.5, 'xanchor': 'center'},\n",
       "               'width': 800,\n",
       "               'xaxis': {'linecolor': 'black', 'linewidth': 1, 'showline': True, 'title': {'text': 'input values'}},\n",
       "               'yaxis': {'linecolor': 'black', 'linewidth': 1, 'showline': True, 'title': {'text': 'output values'}}}\n",
       "})"
      ]
     },
     "execution_count": 38,
     "metadata": {},
     "output_type": "execute_result"
    }
   ],
   "source": [
    "x_lines = np.arange(-10, 10, 0.1)\n",
    "kernel = SquaredExponentialKernel(length=1)\n",
    "\n",
    "fig0 = go.FigureWidget(data=[\n",
    "    line_scatter(\n",
    "        x_lines=x_lines,\n",
    "        y_lines=np.array([kernel(x, 0) for x in x_lines]),\n",
    "    )\n",
    "])\n",
    "\n",
    "fig0 = update_layout_of_graph(fig0, title='Squared exponential kernel')\n",
    "\n",
    "\n",
    "@interact(length=(0.1, 3, 0.1), argument_2=(-10, 10, 0.1))\n",
    "def update(length=1, argument_2=0):\n",
    "    with fig0.batch_update():\n",
    "        kernel = SquaredExponentialKernel(length=length)\n",
    "        fig0.data[0].y = np.array([kernel(x, argument_2) for x in x_lines])\n",
    "\n",
    "\n",
    "fig0"
   ]
  },
  {
   "cell_type": "markdown",
   "id": "613a3946",
   "metadata": {},
   "source": [
    "In the practical implementation of the GPR you will face a couple of stability problems. Among others, numeric approximations in dealing with matrix (operations) may lead to non-invertible/non-positive-semi-definite covariance matrices which result in errors when calculating the GPR. \n",
    "\n",
    "In order to prevent this error we add the _machine epsilon_ to the diagonal of the later covariance matrix:"
   ]
  },
  {
   "cell_type": "code",
   "execution_count": 39,
   "id": "517a082d",
   "metadata": {},
   "outputs": [
    {
     "name": "stdout",
     "output_type": "stream",
     "text": [
      "2.220446049250313e-16\n",
      "1.1920929e-07\n"
     ]
    }
   ],
   "source": [
    "print(np.finfo(float).eps)\n",
    "# 2.22044604925e-16\n",
    "\n",
    "print(np.finfo(np.float32).eps)\n",
    "# 1.19209e-07"
   ]
  },
  {
   "cell_type": "markdown",
   "id": "18f81bfc",
   "metadata": {},
   "source": [
    "Let us shortly recall the formula:\n",
    "Given training points $x_1,...,x_n\\in \\mathbb{R}^m$ with values $y_1,...,y_n\\in \\mathbb{R}$, $y = (y_i)\\in \\mathbb{R}^n$ with noise in each point $\\mathcal{N}_{0,\\sigma}$  and points $x_{n+1},...,x_k\\in \\mathbb{R}^m$ for which we want to predict the output, adapting our probability distribution leads to:\n",
    "\n",
    "$$\\mathcal{N}(K_*K^{-1}y,K_{**}-K_*K^{-1}K_*^T)$$\n",
    "with \n",
    "$$K= (k(x_i,x_j))_{i,j\\leq n}+\\sigma^2*\\mathbb{1}_n$$\n",
    "$$K_*= (k(x_i,x_j))_{n+1\\leq i, j\\leq n}$$\n",
    "$$K_{**}= (k(x_i,x_j))_{n+1\\leq i,j}$$"
   ]
  },
  {
   "cell_type": "code",
   "execution_count": 40,
   "id": "06c65a7a",
   "metadata": {},
   "outputs": [],
   "source": [
    "# Helper function to calculate the respective covariance matrices\n",
    "def cov_matrix(x1, x2, cov_function) -> np.array:\n",
    "    return np.array([[cov_function(a, b) for a in x1] for b in x2])"
   ]
  },
  {
   "cell_type": "code",
   "execution_count": 41,
   "id": "d9bdfc5b",
   "metadata": {},
   "outputs": [],
   "source": [
    "class GPR:\n",
    "    def __init__(self,\n",
    "                 data_x: np.array,\n",
    "                 data_y: np.array,\n",
    "                 covariance_function=SquaredExponentialKernel(),\n",
    "                 white_noise_sigma: float = 0):\n",
    "        self.noise = white_noise_sigma\n",
    "        self.data_x = data_x\n",
    "        self.data_y = data_y\n",
    "        self.covariance_function = covariance_function\n",
    "\n",
    "        # Store the inverse of covariance matrix of input (+ machine epsilon on diagonal) since it is needed for every prediction\n",
    "        self._inverse_of_covariance_matrix_of_input = np.linalg.inv(\n",
    "            cov_matrix(data_x, data_x, covariance_function) +\n",
    "            (3e-7 + self.noise) * np.identity(len(self.data_x)))\n",
    "\n",
    "        self._memory = None\n",
    "\n",
    "    # function to predict output at new input values. Store the mean and covariance matrix in memory.\n",
    "\n",
    "    def predict(self, at_values: np.array) -> np.array:\n",
    "        k_lower_left = cov_matrix(self.data_x, at_values,\n",
    "                                  self.covariance_function)\n",
    "        k_lower_right = cov_matrix(at_values, at_values,\n",
    "                                   self.covariance_function)\n",
    "\n",
    "        # Mean.\n",
    "        mean_at_values = np.dot(\n",
    "            k_lower_left,\n",
    "            np.dot(self.data_y,\n",
    "                   self._inverse_of_covariance_matrix_of_input.T).T).flatten()\n",
    "\n",
    "        # Covariance.\n",
    "        cov_at_values = k_lower_right - \\\n",
    "            np.dot(k_lower_left, np.dot(\n",
    "                self._inverse_of_covariance_matrix_of_input, k_lower_left.T))\n",
    "\n",
    "        # Adding value larger than machine epsilon to ensure positive semi definite\n",
    "        cov_at_values = cov_at_values + 3e-7 * np.ones(\n",
    "            np.shape(cov_at_values)[0])\n",
    "\n",
    "        var_at_values = np.diag(cov_at_values)\n",
    "\n",
    "        self._memory = {\n",
    "            'mean': mean_at_values,\n",
    "            'covariance_matrix': cov_at_values,\n",
    "            'variance': var_at_values\n",
    "        }\n",
    "        return mean_at_values"
   ]
  },
  {
   "cell_type": "markdown",
   "id": "9e6b586e",
   "metadata": {},
   "source": [
    "That's it. The GPR is ready to be used! "
   ]
  },
  {
   "cell_type": "markdown",
   "id": "a5e2f744",
   "metadata": {},
   "source": [
    "## Testing"
   ]
  },
  {
   "cell_type": "markdown",
   "id": "decbe1a4",
   "metadata": {},
   "source": [
    "Let us initialize our GPR on a random training set and visualize the GPR. "
   ]
  },
  {
   "cell_type": "markdown",
   "id": "4a9aa377",
   "metadata": {},
   "source": [
    "### Initializing training data"
   ]
  },
  {
   "cell_type": "code",
   "execution_count": 42,
   "id": "12f59452",
   "metadata": {},
   "outputs": [],
   "source": [
    "x_values = np.array([0, 0.3, 1, 3.1, 4.7])\n",
    "\n",
    "y_values = np.array([1, 0, 1.4, 0, -0.9])"
   ]
  },
  {
   "cell_type": "code",
   "execution_count": 43,
   "id": "baf9cac1",
   "metadata": {},
   "outputs": [],
   "source": [
    "x = np.arange(-1,7,0.1)"
   ]
  },
  {
   "cell_type": "markdown",
   "id": "8410f233",
   "metadata": {},
   "source": [
    "### Plot the output"
   ]
  },
  {
   "cell_type": "markdown",
   "id": "fe426230",
   "metadata": {},
   "source": [
    "Let us define a helper function which returns a list of all plots of data points, mean, etc. needed to plot a GPR."
   ]
  },
  {
   "cell_type": "code",
   "execution_count": 44,
   "id": "b99b06c2",
   "metadata": {},
   "outputs": [],
   "source": [
    "def plot_GPR(data_x, data_y, model, x, visible=True) -> list:\n",
    "    mean = model.predict(x)\n",
    "\n",
    "    std = np.sqrt(model._memory['variance'])\n",
    "    data = []\n",
    "\n",
    "    for i in range(1, 4):\n",
    "        data.append(\n",
    "            uncertainty_area_scatter(\n",
    "                x_lines=x,\n",
    "                y_lower=mean - i * std,\n",
    "                y_upper=mean + i * std,\n",
    "                name=f\"mean plus/minus {i}*standard deviation\",\n",
    "                visible=visible))\n",
    "\n",
    "    data.append(line_scatter(x_lines=x, y_lines=mean, visible=visible))\n",
    "    data.append(dot_scatter(x_dots=data_x, y_dots=data_y, visible=visible))\n",
    "    return data"
   ]
  },
  {
   "cell_type": "markdown",
   "id": "51cd9df1",
   "metadata": {},
   "source": [
    "Now, we can visualize our first GPR."
   ]
  },
  {
   "cell_type": "code",
   "execution_count": 45,
   "id": "9a82c61f",
   "metadata": {},
   "outputs": [
    {
     "data": {
      "application/vnd.plotly.v1+json": {
       "config": {
        "plotlyServerURL": "https://plot.ly"
       },
       "data": [
        {
         "fill": "toself",
         "fillcolor": "rgba(189,195,199,0.5)",
         "hoverinfo": "skip",
         "line": {
          "color": "rgba(200,200,200,0)"
         },
         "name": "mean plus/minus 1*standard deviation",
         "showlegend": true,
         "type": "scatter",
         "visible": true,
         "x": {
          "bdata": "AAAAAAAA8L/NzMzMzMzsv5qZmZmZmem/Z2ZmZmZm5r80MzMzMzPjvwEAAAAAAOC/nJmZmZmZ2b82MzMzMzPTv6CZmZmZmcm/qJmZmZmZub8AAAAAAACwvICZmZmZmbk/kJmZmZmZyT8wMzMzMzPTP5SZmZmZmdk/+P//////3z8wMzMzMzPjP2RmZmZmZuY/lpmZmZmZ6T/IzMzMzMzsP/z//////+8/mJmZmZmZ8T8wMzMzMzPzP8rMzMzMzPQ/ZGZmZmZm9j/+///////3P5iZmZmZmfk/MDMzMzMz+z/KzMzMzMz8P2RmZmZmZv4//P///////z/LzMzMzMwAQJiZmZmZmQFAZWZmZmZmAkAyMzMzMzMDQP7//////wNAy8zMzMzMBECYmZmZmZkFQGRmZmZmZgZAMTMzMzMzB0D+//////8HQMrMzMzMzAhAmJmZmZmZCUBkZmZmZmYKQDAzMzMzMwtA/v//////C0DKzMzMzMwMQJiZmZmZmQ1AZGZmZmZmDkAwMzMzMzMPQP7//////w9AZWZmZmZmEEDMzMzMzMwQQDIzMzMzMxFAmJmZmZmZEUD///////8RQGVmZmZmZhJAy8zMzMzMEkAyMzMzMzMTQJiZmZmZmRNA/v//////E0BlZmZmZmYUQMvMzMzMzBRAMjMzMzMzFUCYmZmZmZkVQP7//////xVAZWZmZmZmFkDLzMzMzMwWQDIzMzMzMxdAmJmZmZmZF0D+//////8XQGVmZmZmZhhAy8zMzMzMGEAxMzMzMzMZQJiZmZmZmRlA/v//////GUBkZmZmZmYaQMvMzMzMzBpAMTMzMzMzG0CYmZmZmZkbQJiZmZmZmRtAMTMzMzMzG0DLzMzMzMwaQGRmZmZmZhpA/v//////GUCYmZmZmZkZQDEzMzMzMxlAy8zMzMzMGEBlZmZmZmYYQP7//////xdAmJmZmZmZF0AyMzMzMzMXQMvMzMzMzBZAZWZmZmZmFkD+//////8VQJiZmZmZmRVAMjMzMzMzFUDLzMzMzMwUQGVmZmZmZhRA/v//////E0CYmZmZmZkTQDIzMzMzMxNAy8zMzMzMEkBlZmZmZmYSQP///////xFAmJmZmZmZEUAyMzMzMzMRQMzMzMzMzBBAZWZmZmZmEED+//////8PQDAzMzMzMw9AZGZmZmZmDkCYmZmZmZkNQMrMzMzMzAxA/v//////C0AwMzMzMzMLQGRmZmZmZgpAmJmZmZmZCUDKzMzMzMwIQP7//////wdAMTMzMzMzB0BkZmZmZmYGQJiZmZmZmQVAy8zMzMzMBED+//////8DQDIzMzMzMwNAZWZmZmZmAkCYmZmZmZkBQMvMzMzMzABA/P///////z9kZmZmZmb+P8rMzMzMzPw/MDMzMzMz+z+YmZmZmZn5P/7///////c/ZGZmZmZm9j/KzMzMzMz0PzAzMzMzM/M/mJmZmZmZ8T/8///////vP8jMzMzMzOw/lpmZmZmZ6T9kZmZmZmbmPzAzMzMzM+M/+P//////3z+UmZmZmZnZPzAzMzMzM9M/kJmZmZmZyT+AmZmZmZm5PwAAAAAAALC8qJmZmZmZub+gmZmZmZnJvzYzMzMzM9O/nJmZmZmZ2b8BAAAAAADgvzQzMzMzM+O/Z2ZmZmZm5r+amZmZmZnpv83MzMzMzOy/AAAAAAAA8L8=",
          "dtype": "f8"
         },
         "y": {
          "bdata": "6MVchooMFUAtQ0o3H4gUQI0ekcEToRNAxzoRXGxaEkASFwv9grwQQOAIvXUHqg1AiEN0lgptCUAwhGa7eO8EQKadr4ejZABAIdpeMbUF+D+aDPYHHgPwP/h+K/5LquI/+KiktsYkzz9KVUgBfPZJP54jGeOc5by/Gu9y1mzTur/C7YyfiAaVPz/PlUciKdA/bmyaCfRi4j+gIsZ5C+TuP5vErjGMafY/LXL2K2CJ/j+gTkKMAmcDQBOn86LJYgdAZ/kieYQEC0AlJ8IqcB8OQNgsJYTbRxBAx9gCHPEdEUCeEXYcwYoRQONP+XWKjBFAHk2Qd58mEUArVJnIvGAQQPBInMldjA5AyIDnRbfJC0C5QXoYiZgIQBLnR6EoGQVAGtba5ItrAUBoSbiVv1v7P+oi7nbj9vM/jdNS3r6v6T+MCixz2ZfYP7MIOKYLZUk/jUTaKU2ex7+Mo4mIzE/VvwZylbmrt9y/9tM/lZ4m4b/igf0ldDDjv83OmyJqo+S/jP8z+Lyo5b+Y9lUBlWbmvx4TXqlR/ua/zscXwmCL578SztDUnSLov8mWL20u0ui/3D+EI8uh6b/59fBuYZPqv5JUI033o+u/EkNpAHTG7L/aDNXRsETov4qA/KLzoeO/SKSlSNb13b8Wi8IrTMfUv7w/4C6jtse/UArKV218qr/YpK2yrg+zP/QAWC1Rmcg/VKBQBcE90z8TcSKSlY/ZP2MCdNRmP98/Citb0GQn4j/TFMC6f2HkP30iNE0eUuY/sQF9anP+5z9ssnbza2zpP+rGoxlXouo/XngqAZqm6z9aAdGScX/sP7bhy8zDMu0/I8KEVQDG7T+/XMbHDj7uP/GaMiLZvfC/GKubkvzm8L81g5xIKxXxv3ptabbSR/G/7ABBWfN98b/wAD7eFLbxv6fdJZ9B7vG//A4GsAsk8r9jO88ZnVTyv8odgffTfPK/QgXGEWqZ8r/H6cNkJqfyvyYSxdIVo/K/toKqPseK8r8Utx95hlzyvwBxT+WQF/K/svWhiz688b9GtCuFGkzxv4i8oEbmyfC/JM9mVoQ58L/YSwTMkD/vv07Cx75ZBO6/1BAv5STT7L8huA+U3pDwv9oCtviOlPK/uuAyyIVj9L94YUkCJO/1vyEufuFOKPe/mw2DeJ//978BxTItnWX4vxKcEPkGS/i/Cm9DIDCh9784N97zdFr2vxEJEmHLavS/TEehbHHI8b/lydNsctnsvxVmJIHdqeS/0sXtoT8N1r+t0Chuh15Jv0/4gmdweMw/vn4xQTrm3j97lX1Dm+3oP5wpo3lBtPE/BjNYCftU9z9cbH6vwDH9P3FQ6OrxjAFASJywEHFqBEA4ZSJEahIHQFnHFtjOZAlA8DMnGVtCC0BiuUcosY4MQOenCaKFMg1AboJ0X7QdDUAZao3QD0kMQHd1v4K9twpA36l26vZ3CEBjXrugDqMFQNaAxIKnXAJA1WQh7jWi/T+vBnm/M2P2P66ZkCpqqu0/mJlfyrmA4D/FS/n2dCzIP2ll0X+jB6K/0jfubA9wwr8rFpgjheHAv7rIvCgLzUi/NCww2q6JzT/uB9Hh1zjiP7ce8CyL+e8/SWzqYSeD9z+c/GdzgXP/P65yKrl6sQNA5Jl7thV0B0B8kYF9ONIKQIhBIwFppA1Apqnwl9/MD0CbB62vRpwQQOFXCMCp7xBAtCinPb3hEEA=",
          "dtype": "f8"
         }
        },
        {
         "fill": "toself",
         "fillcolor": "rgba(189,195,199,0.5)",
         "hoverinfo": "skip",
         "line": {
          "color": "rgba(200,200,200,0)"
         },
         "name": "mean plus/minus 2*standard deviation",
         "showlegend": true,
         "type": "scatter",
         "visible": true,
         "x": {
          "bdata": "AAAAAAAA8L/NzMzMzMzsv5qZmZmZmem/Z2ZmZmZm5r80MzMzMzPjvwEAAAAAAOC/nJmZmZmZ2b82MzMzMzPTv6CZmZmZmcm/qJmZmZmZub8AAAAAAACwvICZmZmZmbk/kJmZmZmZyT8wMzMzMzPTP5SZmZmZmdk/+P//////3z8wMzMzMzPjP2RmZmZmZuY/lpmZmZmZ6T/IzMzMzMzsP/z//////+8/mJmZmZmZ8T8wMzMzMzPzP8rMzMzMzPQ/ZGZmZmZm9j/+///////3P5iZmZmZmfk/MDMzMzMz+z/KzMzMzMz8P2RmZmZmZv4//P///////z/LzMzMzMwAQJiZmZmZmQFAZWZmZmZmAkAyMzMzMzMDQP7//////wNAy8zMzMzMBECYmZmZmZkFQGRmZmZmZgZAMTMzMzMzB0D+//////8HQMrMzMzMzAhAmJmZmZmZCUBkZmZmZmYKQDAzMzMzMwtA/v//////C0DKzMzMzMwMQJiZmZmZmQ1AZGZmZmZmDkAwMzMzMzMPQP7//////w9AZWZmZmZmEEDMzMzMzMwQQDIzMzMzMxFAmJmZmZmZEUD///////8RQGVmZmZmZhJAy8zMzMzMEkAyMzMzMzMTQJiZmZmZmRNA/v//////E0BlZmZmZmYUQMvMzMzMzBRAMjMzMzMzFUCYmZmZmZkVQP7//////xVAZWZmZmZmFkDLzMzMzMwWQDIzMzMzMxdAmJmZmZmZF0D+//////8XQGVmZmZmZhhAy8zMzMzMGEAxMzMzMzMZQJiZmZmZmRlA/v//////GUBkZmZmZmYaQMvMzMzMzBpAMTMzMzMzG0CYmZmZmZkbQJiZmZmZmRtAMTMzMzMzG0DLzMzMzMwaQGRmZmZmZhpA/v//////GUCYmZmZmZkZQDEzMzMzMxlAy8zMzMzMGEBlZmZmZmYYQP7//////xdAmJmZmZmZF0AyMzMzMzMXQMvMzMzMzBZAZWZmZmZmFkD+//////8VQJiZmZmZmRVAMjMzMzMzFUDLzMzMzMwUQGVmZmZmZhRA/v//////E0CYmZmZmZkTQDIzMzMzMxNAy8zMzMzMEkBlZmZmZmYSQP///////xFAmJmZmZmZEUAyMzMzMzMRQMzMzMzMzBBAZWZmZmZmEED+//////8PQDAzMzMzMw9AZGZmZmZmDkCYmZmZmZkNQMrMzMzMzAxA/v//////C0AwMzMzMzMLQGRmZmZmZgpAmJmZmZmZCUDKzMzMzMwIQP7//////wdAMTMzMzMzB0BkZmZmZmYGQJiZmZmZmQVAy8zMzMzMBED+//////8DQDIzMzMzMwNAZWZmZmZmAkCYmZmZmZkBQMvMzMzMzABA/P///////z9kZmZmZmb+P8rMzMzMzPw/MDMzMzMz+z+YmZmZmZn5P/7///////c/ZGZmZmZm9j/KzMzMzMz0PzAzMzMzM/M/mJmZmZmZ8T/8///////vP8jMzMzMzOw/lpmZmZmZ6T9kZmZmZmbmPzAzMzMzM+M/+P//////3z+UmZmZmZnZPzAzMzMzM9M/kJmZmZmZyT+AmZmZmZm5PwAAAAAAALC8qJmZmZmZub+gmZmZmZnJvzYzMzMzM9O/nJmZmZmZ2b8BAAAAAADgvzQzMzMzM+O/Z2ZmZmZm5r+amZmZmZnpv83MzMzMzOy/AAAAAAAA8L8=",
          "dtype": "f8"
         },
         "y": {
          "bdata": "gZS3KvEhF0DUOOvyWVQWQAYqg0p6IxVAwa0dpGqUE0A50kc7qrERQJLE2vHuFQ9AWphwBoVpCkDxjIS8d44FQFJtre4UugBADREZGfxG+D86C7VASgbwP3y6WAwG4+I/WefepFLyzz8mciXLH6xZP0OfDTHmdrq/1i6+1BPNtb8GZZI3uMioP+5joi2WMtI/2tU3KRFU4z8Y52Ah3IDvP5CjyWq4bPY/2vjgSvX8/j+GNQERMOwDQGrLDySnQghALCF5QMtKDED7f8N+SdMPQL5oFFKFWRFAjyQnknxlEkB0sC5CgAMTQHwJ5GYjLxNAsKYObVjpEkBqTOB25zcSQGadLMarJBFACPOCYFp5D0BdOkOvVB4MQIQ/DMZMWQhAZjTyFBNMBECobOFRvxcAQAHPhWHutvc/pN0vvQ/O7j+/UeESqsXdP7E6NJhqY1k/BEKzOWjAur98HlSXqpvGv0rCGFMedMy/mNr5zPHFz7+Cc9SvxbvQv/j9FoBUNdG/jiAVqNa30b+mq+ARsZ3Sv1qvtKG6L9S/NjxBVeOi1r/yDXa7Oxfav2wB/EJDmN6/EX8T7SoP4r8cbrMtg0jlv7tGpV8U5ei/MVwGjhvA7L8fsltb3GTlv8Y18RxKptu/SLBVgHH7yL9wQ+1c0kajP8A4L6c6z9A/dAnOliiB3j/o/8+mgarlP3C3IOoElus/en1TAYx88D96cy8AY+fyP8l1DcJZC/U/6GInpUDq9j+DntDHiYf4P5C3zkbl5/k/wsjgZ9wQ+z+k9CvGcQj8P6fVWcLL1Pw/vVqALe17/T/Bd1GJfgP+P+Mq532ocP4/J2dxif7H/j8HE+6mdw3/P8y/nrIkVgDAl1ileP1lAMCf3g7wOHYAwEcyKTvMhQDAvQ8Ww0mTAMCR+eKJ2pwAwIs8y7U+oADAcytUMdeaAMDa8AGduYkAwPLY+PDOaQDAU+lfJ/w3AMD3XrRxpuL/v1zpa26TJv+/HNip/uI3/r+uEoXIXhT9v6aWjM3Wu/u/YcgTHGww+r9uitOUvXb4v2jJeOTvlfa/LYKFuIuX9L/AGESwL4fyv4SOoBoXcvC/tfeRV33Z7L8Nv84KUPDxv8nGVBn+OfW/IEFr49Us+L+BLCJoKrL6v64RCd3Os/y/dKI+BJcc/r+6onRZ19j+v3RsQzXl1v6/rCZY8pgH/r8gXybl1F78vyKtGwgU1Pm/9PWhfQJj9r8rKWxaIAzyvzwwlB/Zqum/lxduKEws27+vnix8KGBZv+ppGCjPHMI/kGp3g5ip1D9OPU5uhW3hP2ozMdcEwek/bnYpqeyT8T94u/VleLH2P5qvPqhMDvw/CCoV9s26AEBdc2WBcFUDQNrWiHt5tgVAy4AqLum8B0AvRnJGf0kJQDxqmFYHQQpA3eorc52OCkBO8q40vCUKQKEcvi7kAwlAGoIgI7AxB0AMOp8fMcMEQPCZBf551wFAKN42z6Au/T+6J16GB2D2PzbV9YKZDe0/WWCEVTkf3z9oIuAqjRnEP8epzrOLJrC/9JfI7TvzxL9Y2J184BjCv96r315nF1m/0+316yK8zD9qzKPTHQDiP3khcrsy8+8/XTUweuBB9z9EXWylnsj+P+1pDLh7EgNAEkV/Rpt3BkDK1WMBUWYJQDvLqYQaugtAssPXB+NYDUBE+HVNwDMOQHTEzgjeRg5ANrSYMq2YDUA=",
          "dtype": "f8"
         }
        },
        {
         "fill": "toself",
         "fillcolor": "rgba(189,195,199,0.5)",
         "hoverinfo": "skip",
         "line": {
          "color": "rgba(200,200,200,0)"
         },
         "name": "mean plus/minus 3*standard deviation",
         "showlegend": true,
         "type": "scatter",
         "visible": true,
         "x": {
          "bdata": "AAAAAAAA8L/NzMzMzMzsv5qZmZmZmem/Z2ZmZmZm5r80MzMzMzPjvwEAAAAAAOC/nJmZmZmZ2b82MzMzMzPTv6CZmZmZmcm/qJmZmZmZub8AAAAAAACwvICZmZmZmbk/kJmZmZmZyT8wMzMzMzPTP5SZmZmZmdk/+P//////3z8wMzMzMzPjP2RmZmZmZuY/lpmZmZmZ6T/IzMzMzMzsP/z//////+8/mJmZmZmZ8T8wMzMzMzPzP8rMzMzMzPQ/ZGZmZmZm9j/+///////3P5iZmZmZmfk/MDMzMzMz+z/KzMzMzMz8P2RmZmZmZv4//P///////z/LzMzMzMwAQJiZmZmZmQFAZWZmZmZmAkAyMzMzMzMDQP7//////wNAy8zMzMzMBECYmZmZmZkFQGRmZmZmZgZAMTMzMzMzB0D+//////8HQMrMzMzMzAhAmJmZmZmZCUBkZmZmZmYKQDAzMzMzMwtA/v//////C0DKzMzMzMwMQJiZmZmZmQ1AZGZmZmZmDkAwMzMzMzMPQP7//////w9AZWZmZmZmEEDMzMzMzMwQQDIzMzMzMxFAmJmZmZmZEUD///////8RQGVmZmZmZhJAy8zMzMzMEkAyMzMzMzMTQJiZmZmZmRNA/v//////E0BlZmZmZmYUQMvMzMzMzBRAMjMzMzMzFUCYmZmZmZkVQP7//////xVAZWZmZmZmFkDLzMzMzMwWQDIzMzMzMxdAmJmZmZmZF0D+//////8XQGVmZmZmZhhAy8zMzMzMGEAxMzMzMzMZQJiZmZmZmRlA/v//////GUBkZmZmZmYaQMvMzMzMzBpAMTMzMzMzG0CYmZmZmZkbQJiZmZmZmRtAMTMzMzMzG0DLzMzMzMwaQGRmZmZmZhpA/v//////GUCYmZmZmZkZQDEzMzMzMxlAy8zMzMzMGEBlZmZmZmYYQP7//////xdAmJmZmZmZF0AyMzMzMzMXQMvMzMzMzBZAZWZmZmZmFkD+//////8VQJiZmZmZmRVAMjMzMzMzFUDLzMzMzMwUQGVmZmZmZhRA/v//////E0CYmZmZmZkTQDIzMzMzMxNAy8zMzMzMEkBlZmZmZmYSQP///////xFAmJmZmZmZEUAyMzMzMzMRQMzMzMzMzBBAZWZmZmZmEED+//////8PQDAzMzMzMw9AZGZmZmZmDkCYmZmZmZkNQMrMzMzMzAxA/v//////C0AwMzMzMzMLQGRmZmZmZgpAmJmZmZmZCUDKzMzMzMwIQP7//////wdAMTMzMzMzB0BkZmZmZmYGQJiZmZmZmQVAy8zMzMzMBED+//////8DQDIzMzMzMwNAZWZmZmZmAkCYmZmZmZkBQMvMzMzMzABA/P///////z9kZmZmZmb+P8rMzMzMzPw/MDMzMzMz+z+YmZmZmZn5P/7///////c/ZGZmZmZm9j/KzMzMzMz0PzAzMzMzM/M/mJmZmZmZ8T/8///////vP8jMzMzMzOw/lpmZmZmZ6T9kZmZmZmbmPzAzMzMzM+M/+P//////3z+UmZmZmZnZPzAzMzMzM9M/kJmZmZmZyT+AmZmZmZm5PwAAAAAAALC8qJmZmZmZub+gmZmZmZnJvzYzMzMzM9O/nJmZmZmZ2b8BAAAAAADgvzQzMzMzM+O/Z2ZmZmZm5r+amZmZmZnpv83MzMzMzOy/AAAAAAAA8L8=",
          "dtype": "f8"
         },
         "y": {
          "bdata": "G2MSz1c3GUB6LoyulCAYQH41ddPgpRZAuyAq7GjOFEBfjYR50aYSQCJA/DbrQBBALO1sdv9lC0CylaK9di0GQP48q1WGDwFA+EfTAEOI+D/ZCXR5dgnwPwH2hRrAG+M/3ZKMSe9f0D/UXNPKgC5jP+gaAn8vCLi/km4J07rGsL+WKa8PFoezP5z4rhMKPNQ/RT/VSC5F5D/I1X1k1g7wP4aC5KPkb/Y/hn/LaYpw/z9rHMCVXXEEQMLvK6WEIglA8EjPBxKRDUBpbGJpkcMQQKSkAyAvaxJAWHBLCAitE0BJT+dnP3wUQBbDzle80RRAQwCNYhGsFECpRCclEg8UQFMWi6coAxNApDKPvX6UEUABMwxGIKQPQPaX0OpwmQtAspIJRZosB0CbtObYnoECQBh7HUz5dvs/3nMGTjD28T95TEtZvXnhP4U4pq4nCmM/uOvHftgQmb/wrqfs4L2UvwDvK59Z43A/sGou7Fo6pD8Ac0ixc6WzP7CGJhStcLs/8Pf2gDKHvz+QV6p7H0e+PyAeSz24dLY/AHPRmq0PnT8A/lNq3kmvv4yqMVdTGMe/jHxFbRX51L98zOvYSfvfv+M4J3IxJua/UHWjG8O57L9kV+LkB4Xiv3hq6fOsCNC/ANA/IZPpsz/y2/3CAJnZP65I53LjvOY/DFUltncU8D+bJaW7hnn0P1G3dcTagvg/4NJSwacp/D+vStab4Gr/P3z1fudsIwFAJpgQcWdgAkBOmSDZKW8DQPGugbNdUwRAVohBjT8RBUAKSE7JVq0FQO3j8Ps1LAZApbw1rUaSBkBqN50kouMGQHUytIr3IwdAnjYQdH5WB0DYe/z0830HQCAyJNRcTQjAotv8p3xYCMCje8873GEIwNCtHRuvZwjAA5+L2ZlnCMCr8qakql4IwEKKA5xcSQjAaE+liqgjCMADRBytJOkHwP4iMeYzlQfABNDcRUMjB8AUalI/E48GwEhgCYUI1QXAwJZUX3/yBMAkN/WLG+YDwCbe5FoOsALAiM1C1kxSAcCVYHukYKH/v0rWUIL5Yfy/NjWkGpP1+L+TC4b6lm71v+I73VUB4vG/lt70ydXf7L/4xY2BwU/zv7iK8zlt3/e/haGj/iX2+7+K9/rNMHX/v536SWynHwHApxv9R8ccAsA5QNvCCKYCwGweu7hhsQLAKG824gA3AsCEQzdrmjEBwDJRJa9cPf+/nKSijpP9+r9jbW5+h6v1v2T6A77Uq+6/rjR3V6wl4L+DaqKghghjvxRut6K3BK8/xKx6i+3ZxD9Cyj0y39rTP50THLuGGeA/rnP1kbyl5z+VCm0cMDHwP1K+rHq1AvU/jm/ztlUW+j8DA1F97TD/P1zm+h4kCAJAps0tQ3c3BED80pxkTQQGQJIsJwuJTwdATVPjhob/B0CCetCYaAIIQMrDvNoKUAdAVlrKW2nrBUC0FYOeU+MDQAuzRnlMUgFAfFdMsAu7/D/ESENN21z2P70QW9vIcOw/go1JFv883T8M+cZepQbAP9qgtKdFSbe/Fviibmh2x7+GmqPVO1DDv7B5sJQk5GK/cq+7/Zbuyz/lkHbFY8fhPzok9Ena7O8/cv51kpkA9z/svXDXux3+Pyxh7rZ8cwJAQPCC1iB7BUAYGkaFafoHQO1UMAjMzwlAvt2+d+bkCkBT4ZE78y4LQCjZjJForgpAAhfj6d9tCUA=",
          "dtype": "f8"
         }
        },
        {
         "line": {
          "color": "blue",
          "width": 2
         },
         "name": "Predicted function",
         "showlegend": true,
         "type": "scatter",
         "visible": true,
         "x": {
          "bdata": "AAAAAAAA8L/NzMzMzMzsv5qZmZmZmem/Z2ZmZmZm5r80MzMzMzPjvwEAAAAAAOC/nJmZmZmZ2b82MzMzMzPTv6CZmZmZmcm/qJmZmZmZub8AAAAAAACwvICZmZmZmbk/kJmZmZmZyT8wMzMzMzPTP5SZmZmZmdk/+P//////3z8wMzMzMzPjP2RmZmZmZuY/lpmZmZmZ6T/IzMzMzMzsP/z//////+8/mJmZmZmZ8T8wMzMzMzPzP8rMzMzMzPQ/ZGZmZmZm9j/+///////3P5iZmZmZmfk/MDMzMzMz+z/KzMzMzMz8P2RmZmZmZv4//P///////z/LzMzMzMwAQJiZmZmZmQFAZWZmZmZmAkAyMzMzMzMDQP7//////wNAy8zMzMzMBECYmZmZmZkFQGRmZmZmZgZAMTMzMzMzB0D+//////8HQMrMzMzMzAhAmJmZmZmZCUBkZmZmZmYKQDAzMzMzMwtA/v//////C0DKzMzMzMwMQJiZmZmZmQ1AZGZmZmZmDkAwMzMzMzMPQP7//////w9AZWZmZmZmEEDMzMzMzMwQQDIzMzMzMxFAmJmZmZmZEUD///////8RQGVmZmZmZhJAy8zMzMzMEkAyMzMzMzMTQJiZmZmZmRNA/v//////E0BlZmZmZmYUQMvMzMzMzBRAMjMzMzMzFUCYmZmZmZkVQP7//////xVAZWZmZmZmFkDLzMzMzMwWQDIzMzMzMxdAmJmZmZmZF0D+//////8XQGVmZmZmZhhAy8zMzMzMGEAxMzMzMzMZQJiZmZmZmRlA/v//////GUBkZmZmZmYaQMvMzMzMzBpAMTMzMzMzG0CYmZmZmZkbQA==",
          "dtype": "f8"
         },
         "y": {
          "bdata": "TvcB4iP3EkCHTal75LsSQBQTnzitHhJAzccEFG4gEUDWt5x9t44PQC5Nn/kfPgxAtu53JpBwCEBve0i6eVAEQPrNsSAyDwBANaOkSW7E9z/2G26e4//vP3ND/u+RceI/lmpqyDpXzj/1yLiIDZfyPvqnJJVTVL+/X68n2MXZv78guivAfBF+vyJ1EsNcP8w/AwP96dZx4T8nXivSOkfuP6Xlk/hfZvY/gesLDcsV/j+7Z4MH1eECQLuC1yHsggZAo9HMsT2+CUBOzsDWlmsMQOXha2xjbA5A/hm9S8usD0DJcr32ARIQQJQsHQrj0w9AFucjBM3HDkDXt6Q0JBMNQBRX3wZkzwpAiA5MKxQaCEAVSbGBvRIFQKCOg3wE2QFAne+GaQkW/T+Cua2HAIj2P9R2VozYNvA/dsl1/22R5D9aw3bTCGrTPwcV4DzgEJo+DHRtGzPu0L/bN2nFw1Hfv3RBzySkmuW/RzFBt8Bb6r8CyhB0BQPuv08PlgIVVvC/aLcuTsc68b+vy928KL/xv0jn8ABj8vG/wXjH7Kfi8b+VSvPlzpzxv26WcJwdLPG/VID6rDWa8L/XfS6wP97vv2pioTraYu6/8ynMcszM7L+UZ05IhSTrvzFmgDfCcOm/NjiQ6Pm2579NX5FRufvlvz68B+vuQuS/BEZg9iGQ4r+yliT6lebgv+xt6aa4kt6/QrWs+q1227/D63jcYH7Yv13STV+ZrtW/et8wU28L07/AJkI0KJjQv5Oo1Mw3rsy/jDge60eTyL/FEaqVLuDEv+51sEWlk8G/5SVexTJVvb9lZgdoz0C4v9GStBFL3rO/NlDKPuMfsL8SyfbkG+2pvw==",
          "dtype": "f8"
         }
        },
        {
         "marker": {
          "color": "red",
          "size": 8
         },
         "mode": "markers",
         "name": "Observed points",
         "showlegend": true,
         "type": "scatter",
         "visible": true,
         "x": {
          "bdata": "AAAAAAAAAAAzMzMzMzPTPwAAAAAAAPA/zczMzMzMCEDNzMzMzMwSQA==",
          "dtype": "f8"
         },
         "y": {
          "bdata": "AAAAAAAA8D8AAAAAAAAAAGZmZmZmZvY/AAAAAAAAAADNzMzMzMzsvw==",
          "dtype": "f8"
         }
        }
       ],
       "layout": {
        "autosize": false,
        "height": 600,
        "legend": {
         "x": 0.95,
         "xanchor": "right",
         "y": 0.9,
         "yanchor": "top"
        },
        "plot_bgcolor": "rgba(0,0,0,0)",
        "template": {
         "data": {
          "bar": [
           {
            "error_x": {
             "color": "#2a3f5f"
            },
            "error_y": {
             "color": "#2a3f5f"
            },
            "marker": {
             "line": {
              "color": "#E5ECF6",
              "width": 0.5
             },
             "pattern": {
              "fillmode": "overlay",
              "size": 10,
              "solidity": 0.2
             }
            },
            "type": "bar"
           }
          ],
          "barpolar": [
           {
            "marker": {
             "line": {
              "color": "#E5ECF6",
              "width": 0.5
             },
             "pattern": {
              "fillmode": "overlay",
              "size": 10,
              "solidity": 0.2
             }
            },
            "type": "barpolar"
           }
          ],
          "carpet": [
           {
            "aaxis": {
             "endlinecolor": "#2a3f5f",
             "gridcolor": "white",
             "linecolor": "white",
             "minorgridcolor": "white",
             "startlinecolor": "#2a3f5f"
            },
            "baxis": {
             "endlinecolor": "#2a3f5f",
             "gridcolor": "white",
             "linecolor": "white",
             "minorgridcolor": "white",
             "startlinecolor": "#2a3f5f"
            },
            "type": "carpet"
           }
          ],
          "choropleth": [
           {
            "colorbar": {
             "outlinewidth": 0,
             "ticks": ""
            },
            "type": "choropleth"
           }
          ],
          "contour": [
           {
            "colorbar": {
             "outlinewidth": 0,
             "ticks": ""
            },
            "colorscale": [
             [
              0,
              "#0d0887"
             ],
             [
              0.1111111111111111,
              "#46039f"
             ],
             [
              0.2222222222222222,
              "#7201a8"
             ],
             [
              0.3333333333333333,
              "#9c179e"
             ],
             [
              0.4444444444444444,
              "#bd3786"
             ],
             [
              0.5555555555555556,
              "#d8576b"
             ],
             [
              0.6666666666666666,
              "#ed7953"
             ],
             [
              0.7777777777777778,
              "#fb9f3a"
             ],
             [
              0.8888888888888888,
              "#fdca26"
             ],
             [
              1,
              "#f0f921"
             ]
            ],
            "type": "contour"
           }
          ],
          "contourcarpet": [
           {
            "colorbar": {
             "outlinewidth": 0,
             "ticks": ""
            },
            "type": "contourcarpet"
           }
          ],
          "heatmap": [
           {
            "colorbar": {
             "outlinewidth": 0,
             "ticks": ""
            },
            "colorscale": [
             [
              0,
              "#0d0887"
             ],
             [
              0.1111111111111111,
              "#46039f"
             ],
             [
              0.2222222222222222,
              "#7201a8"
             ],
             [
              0.3333333333333333,
              "#9c179e"
             ],
             [
              0.4444444444444444,
              "#bd3786"
             ],
             [
              0.5555555555555556,
              "#d8576b"
             ],
             [
              0.6666666666666666,
              "#ed7953"
             ],
             [
              0.7777777777777778,
              "#fb9f3a"
             ],
             [
              0.8888888888888888,
              "#fdca26"
             ],
             [
              1,
              "#f0f921"
             ]
            ],
            "type": "heatmap"
           }
          ],
          "histogram": [
           {
            "marker": {
             "pattern": {
              "fillmode": "overlay",
              "size": 10,
              "solidity": 0.2
             }
            },
            "type": "histogram"
           }
          ],
          "histogram2d": [
           {
            "colorbar": {
             "outlinewidth": 0,
             "ticks": ""
            },
            "colorscale": [
             [
              0,
              "#0d0887"
             ],
             [
              0.1111111111111111,
              "#46039f"
             ],
             [
              0.2222222222222222,
              "#7201a8"
             ],
             [
              0.3333333333333333,
              "#9c179e"
             ],
             [
              0.4444444444444444,
              "#bd3786"
             ],
             [
              0.5555555555555556,
              "#d8576b"
             ],
             [
              0.6666666666666666,
              "#ed7953"
             ],
             [
              0.7777777777777778,
              "#fb9f3a"
             ],
             [
              0.8888888888888888,
              "#fdca26"
             ],
             [
              1,
              "#f0f921"
             ]
            ],
            "type": "histogram2d"
           }
          ],
          "histogram2dcontour": [
           {
            "colorbar": {
             "outlinewidth": 0,
             "ticks": ""
            },
            "colorscale": [
             [
              0,
              "#0d0887"
             ],
             [
              0.1111111111111111,
              "#46039f"
             ],
             [
              0.2222222222222222,
              "#7201a8"
             ],
             [
              0.3333333333333333,
              "#9c179e"
             ],
             [
              0.4444444444444444,
              "#bd3786"
             ],
             [
              0.5555555555555556,
              "#d8576b"
             ],
             [
              0.6666666666666666,
              "#ed7953"
             ],
             [
              0.7777777777777778,
              "#fb9f3a"
             ],
             [
              0.8888888888888888,
              "#fdca26"
             ],
             [
              1,
              "#f0f921"
             ]
            ],
            "type": "histogram2dcontour"
           }
          ],
          "mesh3d": [
           {
            "colorbar": {
             "outlinewidth": 0,
             "ticks": ""
            },
            "type": "mesh3d"
           }
          ],
          "parcoords": [
           {
            "line": {
             "colorbar": {
              "outlinewidth": 0,
              "ticks": ""
             }
            },
            "type": "parcoords"
           }
          ],
          "pie": [
           {
            "automargin": true,
            "type": "pie"
           }
          ],
          "scatter": [
           {
            "fillpattern": {
             "fillmode": "overlay",
             "size": 10,
             "solidity": 0.2
            },
            "type": "scatter"
           }
          ],
          "scatter3d": [
           {
            "line": {
             "colorbar": {
              "outlinewidth": 0,
              "ticks": ""
             }
            },
            "marker": {
             "colorbar": {
              "outlinewidth": 0,
              "ticks": ""
             }
            },
            "type": "scatter3d"
           }
          ],
          "scattercarpet": [
           {
            "marker": {
             "colorbar": {
              "outlinewidth": 0,
              "ticks": ""
             }
            },
            "type": "scattercarpet"
           }
          ],
          "scattergeo": [
           {
            "marker": {
             "colorbar": {
              "outlinewidth": 0,
              "ticks": ""
             }
            },
            "type": "scattergeo"
           }
          ],
          "scattergl": [
           {
            "marker": {
             "colorbar": {
              "outlinewidth": 0,
              "ticks": ""
             }
            },
            "type": "scattergl"
           }
          ],
          "scattermap": [
           {
            "marker": {
             "colorbar": {
              "outlinewidth": 0,
              "ticks": ""
             }
            },
            "type": "scattermap"
           }
          ],
          "scattermapbox": [
           {
            "marker": {
             "colorbar": {
              "outlinewidth": 0,
              "ticks": ""
             }
            },
            "type": "scattermapbox"
           }
          ],
          "scatterpolar": [
           {
            "marker": {
             "colorbar": {
              "outlinewidth": 0,
              "ticks": ""
             }
            },
            "type": "scatterpolar"
           }
          ],
          "scatterpolargl": [
           {
            "marker": {
             "colorbar": {
              "outlinewidth": 0,
              "ticks": ""
             }
            },
            "type": "scatterpolargl"
           }
          ],
          "scatterternary": [
           {
            "marker": {
             "colorbar": {
              "outlinewidth": 0,
              "ticks": ""
             }
            },
            "type": "scatterternary"
           }
          ],
          "surface": [
           {
            "colorbar": {
             "outlinewidth": 0,
             "ticks": ""
            },
            "colorscale": [
             [
              0,
              "#0d0887"
             ],
             [
              0.1111111111111111,
              "#46039f"
             ],
             [
              0.2222222222222222,
              "#7201a8"
             ],
             [
              0.3333333333333333,
              "#9c179e"
             ],
             [
              0.4444444444444444,
              "#bd3786"
             ],
             [
              0.5555555555555556,
              "#d8576b"
             ],
             [
              0.6666666666666666,
              "#ed7953"
             ],
             [
              0.7777777777777778,
              "#fb9f3a"
             ],
             [
              0.8888888888888888,
              "#fdca26"
             ],
             [
              1,
              "#f0f921"
             ]
            ],
            "type": "surface"
           }
          ],
          "table": [
           {
            "cells": {
             "fill": {
              "color": "#EBF0F8"
             },
             "line": {
              "color": "white"
             }
            },
            "header": {
             "fill": {
              "color": "#C8D4E3"
             },
             "line": {
              "color": "white"
             }
            },
            "type": "table"
           }
          ]
         },
         "layout": {
          "annotationdefaults": {
           "arrowcolor": "#2a3f5f",
           "arrowhead": 0,
           "arrowwidth": 1
          },
          "autotypenumbers": "strict",
          "coloraxis": {
           "colorbar": {
            "outlinewidth": 0,
            "ticks": ""
           }
          },
          "colorscale": {
           "diverging": [
            [
             0,
             "#8e0152"
            ],
            [
             0.1,
             "#c51b7d"
            ],
            [
             0.2,
             "#de77ae"
            ],
            [
             0.3,
             "#f1b6da"
            ],
            [
             0.4,
             "#fde0ef"
            ],
            [
             0.5,
             "#f7f7f7"
            ],
            [
             0.6,
             "#e6f5d0"
            ],
            [
             0.7,
             "#b8e186"
            ],
            [
             0.8,
             "#7fbc41"
            ],
            [
             0.9,
             "#4d9221"
            ],
            [
             1,
             "#276419"
            ]
           ],
           "sequential": [
            [
             0,
             "#0d0887"
            ],
            [
             0.1111111111111111,
             "#46039f"
            ],
            [
             0.2222222222222222,
             "#7201a8"
            ],
            [
             0.3333333333333333,
             "#9c179e"
            ],
            [
             0.4444444444444444,
             "#bd3786"
            ],
            [
             0.5555555555555556,
             "#d8576b"
            ],
            [
             0.6666666666666666,
             "#ed7953"
            ],
            [
             0.7777777777777778,
             "#fb9f3a"
            ],
            [
             0.8888888888888888,
             "#fdca26"
            ],
            [
             1,
             "#f0f921"
            ]
           ],
           "sequentialminus": [
            [
             0,
             "#0d0887"
            ],
            [
             0.1111111111111111,
             "#46039f"
            ],
            [
             0.2222222222222222,
             "#7201a8"
            ],
            [
             0.3333333333333333,
             "#9c179e"
            ],
            [
             0.4444444444444444,
             "#bd3786"
            ],
            [
             0.5555555555555556,
             "#d8576b"
            ],
            [
             0.6666666666666666,
             "#ed7953"
            ],
            [
             0.7777777777777778,
             "#fb9f3a"
            ],
            [
             0.8888888888888888,
             "#fdca26"
            ],
            [
             1,
             "#f0f921"
            ]
           ]
          },
          "colorway": [
           "#636efa",
           "#EF553B",
           "#00cc96",
           "#ab63fa",
           "#FFA15A",
           "#19d3f3",
           "#FF6692",
           "#B6E880",
           "#FF97FF",
           "#FECB52"
          ],
          "font": {
           "color": "#2a3f5f"
          },
          "geo": {
           "bgcolor": "white",
           "lakecolor": "white",
           "landcolor": "#E5ECF6",
           "showlakes": true,
           "showland": true,
           "subunitcolor": "white"
          },
          "hoverlabel": {
           "align": "left"
          },
          "hovermode": "closest",
          "mapbox": {
           "style": "light"
          },
          "paper_bgcolor": "white",
          "plot_bgcolor": "#E5ECF6",
          "polar": {
           "angularaxis": {
            "gridcolor": "white",
            "linecolor": "white",
            "ticks": ""
           },
           "bgcolor": "#E5ECF6",
           "radialaxis": {
            "gridcolor": "white",
            "linecolor": "white",
            "ticks": ""
           }
          },
          "scene": {
           "xaxis": {
            "backgroundcolor": "#E5ECF6",
            "gridcolor": "white",
            "gridwidth": 2,
            "linecolor": "white",
            "showbackground": true,
            "ticks": "",
            "zerolinecolor": "white"
           },
           "yaxis": {
            "backgroundcolor": "#E5ECF6",
            "gridcolor": "white",
            "gridwidth": 2,
            "linecolor": "white",
            "showbackground": true,
            "ticks": "",
            "zerolinecolor": "white"
           },
           "zaxis": {
            "backgroundcolor": "#E5ECF6",
            "gridcolor": "white",
            "gridwidth": 2,
            "linecolor": "white",
            "showbackground": true,
            "ticks": "",
            "zerolinecolor": "white"
           }
          },
          "shapedefaults": {
           "line": {
            "color": "#2a3f5f"
           }
          },
          "ternary": {
           "aaxis": {
            "gridcolor": "white",
            "linecolor": "white",
            "ticks": ""
           },
           "baxis": {
            "gridcolor": "white",
            "linecolor": "white",
            "ticks": ""
           },
           "bgcolor": "#E5ECF6",
           "caxis": {
            "gridcolor": "white",
            "linecolor": "white",
            "ticks": ""
           }
          },
          "title": {
           "x": 0.05
          },
          "xaxis": {
           "automargin": true,
           "gridcolor": "white",
           "linecolor": "white",
           "ticks": "",
           "title": {
            "standoff": 15
           },
           "zerolinecolor": "white",
           "zerolinewidth": 2
          },
          "yaxis": {
           "automargin": true,
           "gridcolor": "white",
           "linecolor": "white",
           "ticks": "",
           "title": {
            "standoff": 15
           },
           "zerolinecolor": "white",
           "zerolinewidth": 2
          }
         }
        },
        "title": {
         "text": "GPR with length 1, sigma 0 and noise 0",
         "x": 0.5,
         "xanchor": "center"
        },
        "width": 800,
        "xaxis": {
         "linecolor": "black",
         "linewidth": 1,
         "showline": true,
         "title": {
          "text": "input values"
         }
        },
        "yaxis": {
         "linecolor": "black",
         "linewidth": 1,
         "showline": true,
         "title": {
          "text": "output values"
         }
        }
       }
      }
     },
     "metadata": {},
     "output_type": "display_data"
    }
   ],
   "source": [
    "model = GPR(x_values, y_values)\n",
    "data = plot_GPR(data_x=x_values, data_y=y_values, x=x, model=model)\n",
    "fig4 = go.Figure(data=data)\n",
    "fig4 = update_layout_of_graph(fig=fig4,\n",
    "                              title='GPR with length 1, sigma 0 and noise 0')\n",
    "\n",
    "fig4.show()"
   ]
  },
  {
   "cell_type": "markdown",
   "id": "b409d823",
   "metadata": {},
   "source": [
    "A cool feature of the GPR is that it is sort of a probability distribution over function - so we can literally 'draw' random functions!"
   ]
  },
  {
   "cell_type": "code",
   "execution_count": 46,
   "id": "045e7091",
   "metadata": {},
   "outputs": [
    {
     "data": {
      "application/vnd.jupyter.widget-view+json": {
       "model_id": "6a81e9e2eb63462da67e299724b328b1",
       "version_major": 2,
       "version_minor": 0
      },
      "text/plain": [
       "VBox(children=(FigureWidget({\n",
       "    'data': [{'marker': {'color': 'red', 'size': 8},\n",
       "              'mode': 'mark…"
      ]
     },
     "execution_count": 46,
     "metadata": {},
     "output_type": "execute_result"
    }
   ],
   "source": [
    "model = GPR(x_values, y_values)\n",
    "\n",
    "mean = model.predict(x)\n",
    "covariance_matrix = model._memory['covariance_matrix']\n",
    "\n",
    "fig1 = go.FigureWidget(data=[dot_scatter(x_dots=x_values, y_dots=y_values)])\n",
    "fig1 = update_layout_of_graph(\n",
    "    fig1,\n",
    "    title='Random drawings (i.e. random functions) of the Gaussian process')\n",
    "\n",
    "button = widgets.Button(description='Add random drawing')\n",
    "\n",
    "\n",
    "def update(_):\n",
    "    with fig1.batch_update():\n",
    "        fig1.add_trace(\n",
    "            line_scatter(x_lines=x,\n",
    "                         y_lines=np.random.multivariate_normal(\n",
    "                             mean, covariance_matrix),\n",
    "                         name_line='random function',\n",
    "                         showlegend=False))\n",
    "        fig1.add_trace(\n",
    "            dot_scatter(x_dots=x_values, y_dots=y_values, showlegend=False))\n",
    "\n",
    "\n",
    "button.on_click(update)\n",
    "widgets.VBox([fig1, button])"
   ]
  },
  {
   "cell_type": "markdown",
   "id": "876ee73f",
   "metadata": {},
   "source": [
    "Doing predictions with a GPR is usually done by taking the mean function as our best guess. Since GPR's are a probabilistic model, we get in addition some sort of certainty of our prediction. (But be careful how to interpret this uncertainty area! Believing that every 'new' point must be in the uncertainty area is simply wrong!)"
   ]
  },
  {
   "cell_type": "code",
   "execution_count": 47,
   "id": "36354bda",
   "metadata": {},
   "outputs": [
    {
     "data": {
      "application/vnd.jupyter.widget-view+json": {
       "model_id": "fd1001711b1a43379a0484775ec89bbe",
       "version_major": 2,
       "version_minor": 0
      },
      "text/plain": [
       "VBox(children=(FigureWidget({\n",
       "    'data': [{'fill': 'toself',\n",
       "              'fillcolor': 'rgba(189,195,199,0.5…"
      ]
     },
     "execution_count": 47,
     "metadata": {},
     "output_type": "execute_result"
    }
   ],
   "source": [
    "model = GPR(x_values[:1], y_values[:1])\n",
    "\n",
    "data = plot_GPR(data_x=x_values[:1], data_y=y_values[:1], x=x, model=model)\n",
    "\n",
    "fig2 = go.FigureWidget(data=data)\n",
    "fig2 = update_layout_of_graph(fig2, title='Prediction (i.e. mean) of GPR')\n",
    "\n",
    "button = widgets.Button(description='Add data point')\n",
    "\n",
    "number_of_points = 1\n",
    "\n",
    "# we update the y values of our 4 scatter plots \n",
    "def update(_):\n",
    "    with fig2.batch_update():\n",
    "        global number_of_points\n",
    "        if number_of_points < len(x_values):\n",
    "            number_of_points += 1\n",
    "            model = GPR(x_values[:number_of_points],\n",
    "                        y_values[:number_of_points])\n",
    "            mean = model.predict(x)\n",
    "            fig2.data[3].y = mean\n",
    "            for i in range(1, 4):\n",
    "                y_upper = mean + i * np.sqrt(model._memory['variance'])\n",
    "                y_lower = mean - i * np.sqrt(model._memory['variance'])\n",
    "                fig2.data[i - 1].y = np.concatenate((y_upper, y_lower[::-1]))\n",
    "\n",
    "            fig2.data[4].x = x_values[:number_of_points]\n",
    "            fig2.data[4].y = y_values[:number_of_points]\n",
    "\n",
    "\n",
    "button.on_click(update)\n",
    "widgets.VBox([fig2, button])"
   ]
  },
  {
   "cell_type": "markdown",
   "id": "ce23fd04",
   "metadata": {},
   "source": [
    "You can test the GPR with different data. Try using multi-dimensional input!"
   ]
  },
  {
   "cell_type": "markdown",
   "id": "1d17146a",
   "metadata": {},
   "source": [
    "### Visualization of effect of free parameters"
   ]
  },
  {
   "cell_type": "markdown",
   "id": "e7e03650",
   "metadata": {},
   "source": [
    "Awesome! Now that we can make predictions with our GPR, lets visualize how the GPR changes if we change the free parameters, i.e. length-scale, variance and white noise."
   ]
  },
  {
   "cell_type": "code",
   "execution_count": 48,
   "id": "cd6e6019",
   "metadata": {},
   "outputs": [
    {
     "data": {
      "application/vnd.jupyter.widget-view+json": {
       "model_id": "bfe08134d47146dd8bf6ba9c1c3e18d4",
       "version_major": 2,
       "version_minor": 0
      },
      "text/plain": [
       "interactive(children=(FloatSlider(value=1.0, description='sigma', max=3.0, min=0.01, step=0.01), FloatSlider(v…"
      ]
     },
     "metadata": {},
     "output_type": "display_data"
    },
    {
     "data": {
      "application/vnd.jupyter.widget-view+json": {
       "model_id": "9bbb21fa01ed4cc1affee877dccb8016",
       "version_major": 2,
       "version_minor": 0
      },
      "text/plain": [
       "FigureWidget({\n",
       "    'data': [{'fill': 'toself',\n",
       "              'fillcolor': 'rgba(189,195,199,0.5)',\n",
       "              'hoverinfo': 'skip',\n",
       "              'line': {'color': 'rgba(200,200,200,0)'},\n",
       "              'name': 'mean plus/minus 1*standard deviation',\n",
       "              'showlegend': True,\n",
       "              'type': 'scatter',\n",
       "              'uid': '71ecc933-523b-4e2d-b5d2-0259545fea03',\n",
       "              'visible': True,\n",
       "              'x': {'bdata': ('AAAAAAAA8L/NzMzMzMzsv5qZmZmZme' ... 'mZmZnpv83MzMzMzOy/AAAAAAAA8L8='),\n",
       "                    'dtype': 'f8'},\n",
       "              'y': {'bdata': ('Z/UNSa5A9D9PxB8wANL1P0yGS4f4iP' ... 'MB5AXbv/Ll/BQmjeK/oi76OY+c5r8='),\n",
       "                    'dtype': 'f8'}},\n",
       "             {'fill': 'toself',\n",
       "              'fillcolor': 'rgba(189,195,199,0.5)',\n",
       "              'hoverinfo': 'skip',\n",
       "              'line': {'color': 'rgba(200,200,200,0)'},\n",
       "              'name': 'mean plus/minus 2*standard deviation',\n",
       "              'showlegend': True,\n",
       "              'type': 'scatter',\n",
       "              'uid': '66cbb38e-17b7-4f90-adf2-a6e255998e72',\n",
       "              'visible': True,\n",
       "              'x': {'bdata': ('AAAAAAAA8L/NzMzMzMzsv5qZmZmZme' ... 'mZmZnpv83MzMzMzOy/AAAAAAAA8L8='),\n",
       "                    'dtype': 'f8'},\n",
       "              'y': {'bdata': ('4r0JnhQEAkD6b7fmJK8CQMrWlqUYVw' ... 'rEseb1v52Ozafc0vi/rZ0CkMIV+78='),\n",
       "                    'dtype': 'f8'}},\n",
       "             {'fill': 'toself',\n",
       "              'fillcolor': 'rgba(189,195,199,0.5)',\n",
       "              'hoverinfo': 'skip',\n",
       "              'line': {'color': 'rgba(200,200,200,0)'},\n",
       "              'name': 'mean plus/minus 3*standard deviation',\n",
       "              'showlegend': True,\n",
       "              'type': 'scatter',\n",
       "              'uid': '37519254-836f-4873-ab52-179751eb31ac',\n",
       "              'visible': True,\n",
       "              'x': {'bdata': ('AAAAAAAA8L/NzMzMzMzsv5qZmZmZme' ... 'mZmZnpv83MzMzMzOy/AAAAAAAA8L8='),\n",
       "                    'dtype': 'f8'},\n",
       "              'y': {'bdata': ('EIGMF9LnCUDM/V61SXUKQG/qhwe16Q' ... '5E9YUCwCBVjiKTLwTABBKEwZ5uBcA='),\n",
       "                    'dtype': 'f8'}},\n",
       "             {'line': {'color': 'blue', 'width': 2},\n",
       "              'name': 'Predicted function',\n",
       "              'showlegend': True,\n",
       "              'type': 'scatter',\n",
       "              'uid': '3a2b188b-27ca-4f53-be0e-0aedc6532cf7',\n",
       "              'visible': True,\n",
       "              'x': {'bdata': ('AAAAAAAA8L/NzMzMzMzsv5qZmZmZme' ... 'zMzBpAMTMzMzMzG0CYmZmZmZkbQA=='),\n",
       "                    'dtype': 'f8'},\n",
       "              'y': {'bdata': ('LLwhWM3k0T+sokJL2hbZPwW+0oZ/x+' ... 'b1/DG/ay9NJq6wH7+J8yoV9dEKvw=='),\n",
       "                    'dtype': 'f8'}},\n",
       "             {'marker': {'color': 'red', 'size': 8},\n",
       "              'mode': 'markers',\n",
       "              'name': 'Observed points',\n",
       "              'showlegend': True,\n",
       "              'type': 'scatter',\n",
       "              'uid': '8a65fdd6-121a-4554-bd84-53d16847df29',\n",
       "              'visible': True,\n",
       "              'x': {'bdata': 'AAAAAAAAAAAzMzMzMzPTPwAAAAAAAPA/zczMzMzMCEDNzMzMzMwSQA==', 'dtype': 'f8'},\n",
       "              'y': {'bdata': 'AAAAAAAA8D8AAAAAAAAAAGZmZmZmZvY/AAAAAAAAAADNzMzMzMzsvw==', 'dtype': 'f8'}}],\n",
       "    'layout': {'autosize': False,\n",
       "               'height': 600,\n",
       "               'legend': {'x': 0.95, 'xanchor': 'right', 'y': 0.9, 'yanchor': 'top'},\n",
       "               'plot_bgcolor': 'rgba(0,0,0,0)',\n",
       "               'template': '...',\n",
       "               'title': {'text': 'GPR with varying length, sigma and white noise', 'x': 0.5, 'xanchor': 'center'},\n",
       "               'width': 800,\n",
       "               'xaxis': {'linecolor': 'black', 'linewidth': 1, 'showline': True, 'title': {'text': 'input values'}},\n",
       "               'yaxis': {'linecolor': 'black', 'linewidth': 1, 'showline': True, 'title': {'text': 'output values'}}}\n",
       "})"
      ]
     },
     "execution_count": 48,
     "metadata": {},
     "output_type": "execute_result"
    }
   ],
   "source": [
    "model = GPR(x_values,\n",
    "            y_values,\n",
    "            covariance_function=SquaredExponentialKernel(length=0.5),\n",
    "            white_noise_sigma=0.1)\n",
    "\n",
    "data = plot_GPR(x_values, y_values, model=model, x=x)\n",
    "\n",
    "fig3 = go.FigureWidget(data=data)\n",
    "\n",
    "\n",
    "# we update the y values of our 4 scatter plots \n",
    "@interact(sigma=(0.01, 3, 0.01), length=(0.01, 3, 0.01), noise=(0, 3, 0.1))\n",
    "def update(sigma=1, length=0.5, noise=0.1):\n",
    "    with fig3.batch_update():\n",
    "        model = GPR(x_values,\n",
    "                    y_values,\n",
    "                    covariance_function=SquaredExponentialKernel(\n",
    "                        sigma_f=sigma, length=length),\n",
    "                    white_noise_sigma=noise)\n",
    "\n",
    "        mean = model.predict(x)\n",
    "        y_upper = mean + np.sqrt(model._memory['variance'])\n",
    "        y_lower = mean - np.sqrt(model._memory['variance'])\n",
    "\n",
    "        \n",
    "        for i in range(1, 4):\n",
    "            y_upper = mean + i * np.sqrt(model._memory['variance'])\n",
    "            y_lower = mean - i * np.sqrt(model._memory['variance'])\n",
    "            fig3.data[i-1].y = np.concatenate((y_upper, y_lower[::-1]))\n",
    "        \n",
    "        fig3.data[3].y = mean\n",
    "\n",
    "\n",
    "fig3 = update_layout_of_graph(\n",
    "    fig3, title=\"GPR with varying length, sigma and white noise\")\n",
    "fig3"
   ]
  },
  {
   "cell_type": "markdown",
   "id": "188b1f24",
   "metadata": {},
   "source": [
    "Pretty impressive how many function 'shapes' we can generate with a GPR!\n",
    "\n",
    "But now we naturally raise the question:\n",
    "\n",
    "_What are the best parameters for our GPR and problem?_"
   ]
  }
 ],
 "metadata": {
  "kernelspec": {
   "display_name": ".venv",
   "language": "python",
   "name": "python3"
  },
  "language_info": {
   "codemirror_mode": {
    "name": "ipython",
    "version": 3
   },
   "file_extension": ".py",
   "mimetype": "text/x-python",
   "name": "python",
   "nbconvert_exporter": "python",
   "pygments_lexer": "ipython3",
   "version": "3.12.8"
  },
  "toc": {
   "base_numbering": 1,
   "nav_menu": {},
   "number_sections": true,
   "sideBar": true,
   "skip_h1_title": false,
   "title_cell": "Table of Contents",
   "title_sidebar": "Contents",
   "toc_cell": false,
   "toc_position": {},
   "toc_section_display": true,
   "toc_window_display": false
  },
  "varInspector": {
   "cols": {
    "lenName": 16,
    "lenType": 16,
    "lenVar": 40
   },
   "kernels_config": {
    "python": {
     "delete_cmd_postfix": "",
     "delete_cmd_prefix": "del ",
     "library": "var_list.py",
     "varRefreshCmd": "print(var_dic_list())"
    },
    "r": {
     "delete_cmd_postfix": ") ",
     "delete_cmd_prefix": "rm(",
     "library": "var_list.r",
     "varRefreshCmd": "cat(var_dic_list()) "
    }
   },
   "types_to_exclude": [
    "module",
    "function",
    "builtin_function_or_method",
    "instance",
    "_Feature"
   ],
   "window_display": false
  }
 },
 "nbformat": 4,
 "nbformat_minor": 5
}
