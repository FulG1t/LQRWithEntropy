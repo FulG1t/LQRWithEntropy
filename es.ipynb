{
 "cells": [
  {
   "cell_type": "code",
   "execution_count": 17,
   "id": "54cae97b",
   "metadata": {},
   "outputs": [],
   "source": [
    "import numpy as np\n",
    "import torch\n",
    "import math\n",
    "import gpytorch\n",
    "from matplotlib import pyplot as plt\n"
   ]
  },
  {
   "cell_type": "code",
   "execution_count": 18,
   "id": "49a34402",
   "metadata": {},
   "outputs": [],
   "source": [
    "\n",
    "r_short = 0.33\n",
    "m_short = 0.27\n",
    "r_long = 0.64\n",
    "m_long=0.29\n",
    "\n",
    "zetha = 0.012\n",
    "g = 9.81\n",
    "\n",
    "Q=torch.diag(torch.Tensor([1,100,10,200]))\n",
    "R=10\n",
    "\n"
   ]
  },
  {
   "cell_type": "markdown",
   "id": "b55aafeb",
   "metadata": {},
   "source": [
    "# GP using gpytorch"
   ]
  },
  {
   "cell_type": "markdown",
   "id": "4be12959",
   "metadata": {},
   "source": [
    "### Define training data"
   ]
  },
  {
   "cell_type": "code",
   "execution_count": 19,
   "id": "f92f6182",
   "metadata": {},
   "outputs": [],
   "source": [
    "train_x = torch.linspace(0,1,100)\n",
    "train_y = torch.sin(train_x * (2*math.pi)) + torch.randn(train_x.size()) * math.sqrt(0.04)"
   ]
  },
  {
   "cell_type": "code",
   "execution_count": 43,
   "id": "ce3a7b65",
   "metadata": {},
   "outputs": [],
   "source": [
    "class ExactGPModel(gpytorch.models.ExactGP):\n",
    "    def __init__(self, train_x, train_y, likelihood):\n",
    "        super(ExactGPModel, self).__init__(train_x, train_y, likelihood)\n",
    "        self.mean_module = gpytorch.means.ConstantMean()\n",
    "        self.covar_module = gpytorch.kernels.ScaleKernel(gpytorch.kernels.RBFKernel())\n",
    "\n",
    "    def forward(self, x):\n",
    "        mean_x = self.mean_module(x)\n",
    "        covar_x = self.covar_module(x)\n",
    "        return gpytorch.distributions.MultivariateNormal(mean_x, covar_x)\n",
    "likelihood = gpytorch.likelihoods.GaussianLikelihood()\n",
    "model = ExactGPModel(train_x, train_y, likelihood)"
   ]
  },
  {
   "cell_type": "code",
   "execution_count": 48,
   "id": "9df38343",
   "metadata": {},
   "outputs": [
    {
     "name": "stdout",
     "output_type": "stream",
     "text": [
      "Iter 1/50 - Loss: -0.130   lengthscale: 0.264   noise: 0.034\n",
      "Iter 2/50 - Loss: -0.126   lengthscale: 0.242   noise: 0.037\n",
      "Iter 3/50 - Loss: -0.130   lengthscale: 0.258   noise: 0.035\n",
      "Iter 4/50 - Loss: -0.129   lengthscale: 0.275   noise: 0.033\n",
      "Iter 5/50 - Loss: -0.128   lengthscale: 0.282   noise: 0.032\n",
      "Iter 6/50 - Loss: -0.128   lengthscale: 0.279   noise: 0.032\n",
      "Iter 7/50 - Loss: -0.129   lengthscale: 0.272   noise: 0.033\n",
      "Iter 8/50 - Loss: -0.130   lengthscale: 0.264   noise: 0.034\n",
      "Iter 9/50 - Loss: -0.129   lengthscale: 0.257   noise: 0.035\n",
      "Iter 10/50 - Loss: -0.129   lengthscale: 0.254   noise: 0.036\n",
      "Iter 11/50 - Loss: -0.129   lengthscale: 0.255   noise: 0.036\n",
      "Iter 12/50 - Loss: -0.129   lengthscale: 0.258   noise: 0.035\n",
      "Iter 13/50 - Loss: -0.130   lengthscale: 0.264   noise: 0.034\n",
      "Iter 14/50 - Loss: -0.130   lengthscale: 0.270   noise: 0.033\n",
      "Iter 15/50 - Loss: -0.129   lengthscale: 0.274   noise: 0.033\n",
      "Iter 16/50 - Loss: -0.129   lengthscale: 0.276   noise: 0.033\n",
      "Iter 17/50 - Loss: -0.129   lengthscale: 0.275   noise: 0.033\n",
      "Iter 18/50 - Loss: -0.130   lengthscale: 0.272   noise: 0.033\n",
      "Iter 19/50 - Loss: -0.130   lengthscale: 0.268   noise: 0.034\n",
      "Iter 20/50 - Loss: -0.130   lengthscale: 0.264   noise: 0.035\n",
      "Iter 21/50 - Loss: -0.130   lengthscale: 0.261   noise: 0.035\n",
      "Iter 22/50 - Loss: -0.129   lengthscale: 0.260   noise: 0.035\n",
      "Iter 23/50 - Loss: -0.130   lengthscale: 0.261   noise: 0.035\n",
      "Iter 24/50 - Loss: -0.130   lengthscale: 0.263   noise: 0.034\n",
      "Iter 25/50 - Loss: -0.130   lengthscale: 0.266   noise: 0.034\n",
      "Iter 26/50 - Loss: -0.130   lengthscale: 0.269   noise: 0.034\n",
      "Iter 27/50 - Loss: -0.130   lengthscale: 0.270   noise: 0.033\n",
      "Iter 28/50 - Loss: -0.130   lengthscale: 0.271   noise: 0.033\n",
      "Iter 29/50 - Loss: -0.130   lengthscale: 0.270   noise: 0.034\n",
      "Iter 30/50 - Loss: -0.130   lengthscale: 0.268   noise: 0.034\n",
      "Iter 31/50 - Loss: -0.130   lengthscale: 0.265   noise: 0.034\n",
      "Iter 32/50 - Loss: -0.130   lengthscale: 0.263   noise: 0.035\n",
      "Iter 33/50 - Loss: -0.130   lengthscale: 0.262   noise: 0.035\n",
      "Iter 34/50 - Loss: -0.130   lengthscale: 0.262   noise: 0.034\n",
      "Iter 35/50 - Loss: -0.130   lengthscale: 0.263   noise: 0.034\n",
      "Iter 36/50 - Loss: -0.130   lengthscale: 0.264   noise: 0.034\n",
      "Iter 37/50 - Loss: -0.130   lengthscale: 0.266   noise: 0.034\n",
      "Iter 38/50 - Loss: -0.130   lengthscale: 0.267   noise: 0.034\n",
      "Iter 39/50 - Loss: -0.130   lengthscale: 0.267   noise: 0.034\n",
      "Iter 40/50 - Loss: -0.130   lengthscale: 0.267   noise: 0.034\n",
      "Iter 41/50 - Loss: -0.130   lengthscale: 0.265   noise: 0.034\n",
      "Iter 42/50 - Loss: -0.130   lengthscale: 0.264   noise: 0.034\n",
      "Iter 43/50 - Loss: -0.130   lengthscale: 0.263   noise: 0.034\n",
      "Iter 44/50 - Loss: -0.130   lengthscale: 0.262   noise: 0.034\n",
      "Iter 45/50 - Loss: -0.130   lengthscale: 0.263   noise: 0.034\n",
      "Iter 46/50 - Loss: -0.130   lengthscale: 0.263   noise: 0.034\n",
      "Iter 47/50 - Loss: -0.130   lengthscale: 0.264   noise: 0.034\n",
      "Iter 48/50 - Loss: -0.130   lengthscale: 0.265   noise: 0.034\n",
      "Iter 49/50 - Loss: -0.130   lengthscale: 0.266   noise: 0.034\n",
      "Iter 50/50 - Loss: -0.130   lengthscale: 0.266   noise: 0.034\n"
     ]
    }
   ],
   "source": [
    "import os\n",
    "smoke_test = ('CI' in os.environ)\n",
    "training_iter = 2 if smoke_test else 50\n",
    "\n",
    "\n",
    "# Find optimal model hyperparameters\n",
    "model.train()\n",
    "likelihood.train()\n",
    "\n",
    "# Use the adam optimizer\n",
    "optimizer = torch.optim.Adam(model.parameters(), lr=0.1)  # Includes GaussianLikelihood parameters\n",
    "\n",
    "# \"Loss\" for GPs - the marginal log likelihood\n",
    "mll = gpytorch.mlls.ExactMarginalLogLikelihood(likelihood, model)\n",
    "\n",
    "for i in range(training_iter):\n",
    "    # Zero gradients from previous iteration\n",
    "    optimizer.zero_grad()\n",
    "    # Output from model\n",
    "    output = model(train_x)\n",
    "    # Calc loss and backprop gradients\n",
    "    loss = -mll(output, train_y)\n",
    "    loss.backward()\n",
    "    print('Iter %d/%d - Loss: %.3f   lengthscale: %.3f   noise: %.3f' % (\n",
    "        i + 1, training_iter, loss.item(),\n",
    "        model.covar_module.base_kernel.lengthscale.item(),\n",
    "        model.likelihood.noise.item()\n",
    "    ))\n",
    "    optimizer.step()"
   ]
  },
  {
   "cell_type": "code",
   "execution_count": 41,
   "id": "f7ac1e1d",
   "metadata": {},
   "outputs": [],
   "source": [
    "# Get into evaluation (predictive posterior) mode\n",
    "model.eval()\n",
    "likelihood.eval()\n",
    "\n",
    "# Test points are regularly spaced along [0,1]\n",
    "# Make predictions by feeding model through likelihood\n",
    "with torch.no_grad(), gpytorch.settings.fast_pred_var():\n",
    "    test_x = torch.linspace(0, 1, 51)\n",
    "    observed_pred = likelihood(model(test_x))"
   ]
  },
  {
   "cell_type": "code",
   "execution_count": 42,
   "id": "5c0aab3a",
   "metadata": {},
   "outputs": [
    {
     "data": {
      "image/png": "[encoded data removed]",
      "text/plain": [
       "<Figure size 400x300 with 1 Axes>"
      ]
     },
     "metadata": {},
     "output_type": "display_data"
    }
   ],
   "source": [
    "with torch.no_grad():\n",
    "    # Initialize plot\n",
    "    f, ax = plt.subplots(1, 1, figsize=(4, 3))\n",
    "\n",
    "    # Get upper and lower confidence bounds\n",
    "    lower, upper = observed_pred.confidence_region()\n",
    "    # Plot training data as black stars\n",
    "    ax.plot(train_x.numpy(), train_y.numpy(), 'k*')\n",
    "    # Plot predictive means as blue line\n",
    "    ax.plot(test_x.numpy(), observed_pred.mean.numpy(), 'b')\n",
    "    # Shade between the lower and upper confidence bounds\n",
    "    ax.fill_between(test_x.numpy(), lower.numpy(), upper.numpy(), alpha=0.5)\n",
    "    ax.set_ylim([-3, 3])\n",
    "    ax.legend(['Observed Data', 'Mean', 'Confidence'])"
   ]
  }
 ],
 "metadata": {
  "kernelspec": {
   "display_name": ".venv",
   "language": "python",
   "name": "python3"
  },
  "language_info": {
   "codemirror_mode": {
    "name": "ipython",
    "version": 3
   },
   "file_extension": ".py",
   "mimetype": "text/x-python",
   "name": "python",
   "nbconvert_exporter": "python",
   "pygments_lexer": "ipython3",
   "version": "3.12.8"
  }
 },
 "nbformat": 4,
 "nbformat_minor": 5
}
