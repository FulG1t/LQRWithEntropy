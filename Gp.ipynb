{
 "cells": [
  {
   "cell_type": "code",
   "execution_count": 21,
   "id": "2633bde6",
   "metadata": {},
   "outputs": [],
   "source": [
    "import numpy as np\n",
    "import plotly.graph_objects as go"
   ]
  },
  {
   "cell_type": "code",
   "execution_count": 22,
   "id": "effa0d90",
   "metadata": {},
   "outputs": [],
   "source": [
    "class SquaredExponentialKernel:\n",
    "    def __init__(self, sigma_f: float = 1, length: float = 1):\n",
    "        self.sigma_f = sigma_f \n",
    "        self.length = length\n",
    "    \n",
    "    def __call__(self, argument_1:np.array, argument_2: np.array) -> float:\n",
    "        return float(self.sigma_f *\n",
    "                     np.exp(-(np.linalg.norm(argument_1 - argument_2) ** 2) / \n",
    "                        (2* self.length**2)))"
   ]
  },
  {
   "cell_type": "code",
   "execution_count": 23,
   "id": "d13e395a",
   "metadata": {},
   "outputs": [
    {
     "name": "stdout",
     "output_type": "stream",
     "text": [
      "2.220446049250313e-16\n",
      "1.1920929e-07\n"
     ]
    }
   ],
   "source": [
    "print(np.finfo(float).eps)\n",
    "print(np.finfo(np.float32).eps)"
   ]
  },
  {
   "cell_type": "code",
   "execution_count": 24,
   "id": "930c7c93",
   "metadata": {},
   "outputs": [],
   "source": [
    "def cov_matrix(x1, x2, cov_function) -> np.array:\n",
    "    return np.array([[cov_function(a,b) for a in x1] for b in x2])"
   ]
  },
  {
   "cell_type": "markdown",
   "id": "f703e711",
   "metadata": {},
   "source": [
    "$$\\mathcal{N}(K_*K^{-1}y,K_{**}-K_*K^{-1}K_*^T)$$\n",
    "with \n",
    "$$K= (k(x_i,x_j))_{i,j\\leq n}+\\sigma^2*1_n$$\n",
    "$$K_*= (k(x_i,x_j))_{n+1\\leq i, j\\leq n}$$\n",
    "$$K_{**}= (k(x_i,x_j))_{n+1\\leq i,j}$$"
   ]
  },
  {
   "cell_type": "code",
   "execution_count": 25,
   "id": "34dda16b",
   "metadata": {},
   "outputs": [],
   "source": [
    "class GPR:\n",
    "    def __init__(self,\n",
    "                 data_x: np.array,\n",
    "                 data_y: np.array,\n",
    "                 covariance_function = SquaredExponentialKernel(),\n",
    "                 white_noise_sigma: float = 0):\n",
    "        self.noise = white_noise_sigma\n",
    "        self.data_x = data_x\n",
    "        self.data_y = data_y\n",
    "        self.covariance_function = covariance_function\n",
    "\n",
    "        self._inverse_of_covariance_matrix_of_input = np.linalg.inv(\n",
    "            cov_matrix(data_x, data_x, covariance_function) + \n",
    "            (3e-7+self.noise) * np.identity(len(self.data_x)))\n",
    "        self._memory = None\n",
    "    def predict(self, at_values: np.array) -> np.array:\n",
    "        k_lower_left = cov_matrix(self.data_x, at_values, self.covariance_function)\n",
    "        k_lower_right =  cov_matrix(at_values, at_values, self.covariance_function)\n",
    "\n",
    "        # Mean\n",
    "        mean_at_values = np.dot(\n",
    "            k_lower_left,\n",
    "            np.dot(self.data_y, \n",
    "                   self._inverse_of_covariance_matrix_of_input.T).T).flatten()\n",
    "        \n",
    "        #Covariance\n",
    "        cov_at_values = k_lower_right - \\\n",
    "            np.dot(k_lower_left, np.dot(\n",
    "                self._inverse_of_covariance_matrix_of_input, k_lower_left.T\n",
    "            ))\n",
    "        \n",
    "        cov_at_values = cov_at_values + 3e7 * np.ones(np.shape(cov_at_values)[0])\n",
    "\n",
    "        var_at_values = np.diag(cov_at_values)\n",
    "\n",
    "        self._memory = {\n",
    "            'mean': mean_at_values,\n",
    "            'covariance_matrix': cov_at_values,\n",
    "            'variance': var_at_values\n",
    "        }\n",
    "        return mean_at_values"
   ]
  },
  {
   "cell_type": "code",
   "execution_count": 26,
   "id": "20ac1e80",
   "metadata": {},
   "outputs": [],
   "source": [
    "def line_scatter(\n",
    "    visible: bool = True,\n",
    "    x_lines: np.array = np.array([]),\n",
    "    y_lines: np.array = np.array([]),\n",
    "    name_line: str = 'Predicted function',\n",
    "    showlegend: bool = True,\n",
    ") -> go.Scatter:\n",
    "    # Adding the lines\n",
    "    return go.Scatter(\n",
    "        visible=visible,\n",
    "        line=dict(color=\"blue\", width=2),\n",
    "        x=x_lines,\n",
    "        y=y_lines,\n",
    "        name=name_line,\n",
    "        showlegend= showlegend\n",
    "    )"
   ]
  },
  {
   "cell_type": "code",
   "execution_count": 27,
   "id": "b74b0844",
   "metadata": {},
   "outputs": [],
   "source": [
    "def dot_scatter(\n",
    "    visible: bool = True,\n",
    "    x_dots: np.array = np.array([]),\n",
    "    y_dots: np.array = np.array([]),\n",
    "    name_dots: str = 'Observed points',\n",
    "    showlegend: bool = True\n",
    "    ) -> go.Scatter:\n",
    "    # Adding the dots\n",
    "    return go.Scatter(\n",
    "        x=x_dots,\n",
    "        visible=visible,\n",
    "        y=y_dots,\n",
    "        mode=\"markers\",\n",
    "        name=name_dots,\n",
    "        marker=dict(color='red', size=8),\n",
    "        showlegend=showlegend\n",
    "    )"
   ]
  },
  {
   "cell_type": "code",
   "execution_count": 28,
   "id": "b6051608",
   "metadata": {},
   "outputs": [],
   "source": [
    "def uncertainty_area_scatter(\n",
    "    visible: bool = True,\n",
    "    x_lines: np.array = np.array([]),\n",
    "    y_upper: np.array = np.array([]),\n",
    "    y_lower: np.array = np.array([]),\n",
    "    name: str = \"mean plus/minus standard deviation\",\n",
    "    ) -> go.Scatter:\n",
    "\n",
    "    return go.Scatter(\n",
    "    visible=visible,\n",
    "    x=np.concatenate((x_lines, x_lines[::-1])),  # x, then x reversed\n",
    "    # upper, then lower reversed\n",
    "    y=np.concatenate((y_upper, y_lower[::-1])),\n",
    "    fill='toself',\n",
    "    fillcolor='rgba(189,195,199,0.5)',\n",
    "    line=dict(color='rgba(200,200,200,0)'),\n",
    "    hoverinfo=\"skip\",\n",
    "    showlegend=True,\n",
    "    name= name,\n",
    "    )"
   ]
  },
  {
   "cell_type": "code",
   "execution_count": 29,
   "id": "4cd30298",
   "metadata": {},
   "outputs": [],
   "source": [
    "def plot_GPR(data_x, data_y, model, x, visible=True) -> list:\n",
    "    mean = model.predict(x)\n",
    "\n",
    "    std = np.sqrt(model._memory['variance'])\n",
    "    data = []\n",
    "\n",
    "    for i in range(1, 4):\n",
    "        data.append(\n",
    "            uncertainty_area_scatter(\n",
    "                x_lines=x,\n",
    "                y_lower=mean - i * std,\n",
    "                y_upper=mean + i * std,\n",
    "                name=f\"mean plus/minus {i}*standard deviation\",\n",
    "                visible=visible))\n",
    "\n",
    "    data.append(line_scatter(x_lines=x, y_lines=mean, visible=visible))\n",
    "    data.append(dot_scatter(x_dots=data_x, y_dots=data_y, visible=visible))\n",
    "    return data"
   ]
  },
  {
   "cell_type": "code",
   "execution_count": 30,
   "id": "94a7a3d7",
   "metadata": {},
   "outputs": [],
   "source": [
    "def update_layout_of_graph(fig: go.Figure,title: str = 'Plot')->go.Figure:\n",
    "    fig.update_layout(\n",
    "        width=800,\n",
    "        height=600,\n",
    "        autosize=False,\n",
    "        plot_bgcolor='rgba(0,0,0,0)',\n",
    "        title=title,\n",
    "        \n",
    "    )\n",
    "    fig.update_layout(plot_bgcolor='rgba(0,0,0,0)',\n",
    "                      xaxis_title = 'input values',\n",
    "                      yaxis_title = 'output values',\n",
    "                      legend=dict(yanchor=\"top\",\n",
    "                                  y=0.9,\n",
    "                                  xanchor=\"right\",\n",
    "                                  x=0.95),\n",
    "                      title={\n",
    "                          'x': 0.5,\n",
    "                          'xanchor': 'center'\n",
    "                      })\n",
    "    fig.update_xaxes(showline=True, linewidth=1, linecolor='black')\n",
    "    fig.update_yaxes(showline=True, linewidth=1, linecolor='black')\n",
    "    return fig"
   ]
  },
  {
   "cell_type": "markdown",
   "id": "2555f1b9",
   "metadata": {},
   "source": [
    "**Testing the function**\n"
   ]
  },
  {
   "cell_type": "code",
   "execution_count": 31,
   "id": "9cb8b531",
   "metadata": {},
   "outputs": [],
   "source": [
    "x_values = np.array([0, 0.3, 1, 3.1, 4.7])\n",
    "\n",
    "y_values = np.array([1, 0, 1.4, 0, -0.9])"
   ]
  },
  {
   "cell_type": "code",
   "execution_count": 32,
   "id": "0f442bbe",
   "metadata": {},
   "outputs": [],
   "source": [
    "x = np.arange(-1,7,0.1)"
   ]
  },
  {
   "cell_type": "code",
   "execution_count": 35,
   "id": "199511b3",
   "metadata": {},
   "outputs": [
    {
     "data": {
      "application/vnd.plotly.v1+json": {
       "config": {
        "plotlyServerURL": "https://plot.ly"
       },
       "data": [
        {
         "fill": "toself",
         "fillcolor": "rgba(189,195,199,0.5)",
         "hoverinfo": "skip",
         "line": {
          "color": "rgba(200,200,200,0)"
         },
         "name": "mean plus/minus 1*standard deviation",
         "showlegend": true,
         "type": "scatter",
         "visible": true,
         "x": {
          "bdata": "AAAAAAAA8L/NzMzMzMzsv5qZmZmZmem/Z2ZmZmZm5r80MzMzMzPjvwEAAAAAAOC/nJmZmZmZ2b82MzMzMzPTv6CZmZmZmcm/qJmZmZmZub8AAAAAAACwvICZmZmZmbk/kJmZmZmZyT8wMzMzMzPTP5SZmZmZmdk/+P//////3z8wMzMzMzPjP2RmZmZmZuY/lpmZmZmZ6T/IzMzMzMzsP/z//////+8/mJmZmZmZ8T8wMzMzMzPzP8rMzMzMzPQ/ZGZmZmZm9j/+///////3P5iZmZmZmfk/MDMzMzMz+z/KzMzMzMz8P2RmZmZmZv4//P///////z/LzMzMzMwAQJiZmZmZmQFAZWZmZmZmAkAyMzMzMzMDQP7//////wNAy8zMzMzMBECYmZmZmZkFQGRmZmZmZgZAMTMzMzMzB0D+//////8HQMrMzMzMzAhAmJmZmZmZCUBkZmZmZmYKQDAzMzMzMwtA/v//////C0DKzMzMzMwMQJiZmZmZmQ1AZGZmZmZmDkAwMzMzMzMPQP7//////w9AZWZmZmZmEEDMzMzMzMwQQDIzMzMzMxFAmJmZmZmZEUD///////8RQGVmZmZmZhJAy8zMzMzMEkAyMzMzMzMTQJiZmZmZmRNA/v//////E0BlZmZmZmYUQMvMzMzMzBRAMjMzMzMzFUCYmZmZmZkVQP7//////xVAZWZmZmZmFkDLzMzMzMwWQDIzMzMzMxdAmJmZmZmZF0D+//////8XQGVmZmZmZhhAy8zMzMzMGEAxMzMzMzMZQJiZmZmZmRlA/v//////GUBkZmZmZmYaQMvMzMzMzBpAMTMzMzMzG0CYmZmZmZkbQJiZmZmZmRtAMTMzMzMzG0DLzMzMzMwaQGRmZmZmZhpA/v//////GUCYmZmZmZkZQDEzMzMzMxlAy8zMzMzMGEBlZmZmZmYYQP7//////xdAmJmZmZmZF0AyMzMzMzMXQMvMzMzMzBZAZWZmZmZmFkD+//////8VQJiZmZmZmRVAMjMzMzMzFUDLzMzMzMwUQGVmZmZmZhRA/v//////E0CYmZmZmZkTQDIzMzMzMxNAy8zMzMzMEkBlZmZmZmYSQP///////xFAmJmZmZmZEUAyMzMzMzMRQMzMzMzMzBBAZWZmZmZmEED+//////8PQDAzMzMzMw9AZGZmZmZmDkCYmZmZmZkNQMrMzMzMzAxA/v//////C0AwMzMzMzMLQGRmZmZmZgpAmJmZmZmZCUDKzMzMzMwIQP7//////wdAMTMzMzMzB0BkZmZmZmYGQJiZmZmZmQVAy8zMzMzMBED+//////8DQDIzMzMzMwNAZWZmZmZmAkCYmZmZmZkBQMvMzMzMzABA/P///////z9kZmZmZmb+P8rMzMzMzPw/MDMzMzMz+z+YmZmZmZn5P/7///////c/ZGZmZmZm9j/KzMzMzMz0PzAzMzMzM/M/mJmZmZmZ8T/8///////vP8jMzMzMzOw/lpmZmZmZ6T9kZmZmZmbmPzAzMzMzM+M/+P//////3z+UmZmZmZnZPzAzMzMzM9M/kJmZmZmZyT+AmZmZmZm5PwAAAAAAALC8qJmZmZmZub+gmZmZmZnJvzYzMzMzM9O/nJmZmZmZ2b8BAAAAAADgvzQzMzMzM+O/Z2ZmZmZm5r+amZmZmZnpv83MzMzMzOy/AAAAAAAA8L8=",
          "dtype": "f8"
         },
         "y": {
          "bdata": "MW7hifdptUCXpp256Gm1QGSYcWvBabVAZl9e24FptUBP2ZCWK2m1QGvseIPBaLVAVXNl0UdotUC44YnOw2e1QDkekKU7Z7VAblsuBrZmtUA9UWa+OWa1QE7w2EvNZbVA0v2+bXZltUClznLAOWW1QNDr9WoaZbVAdRyE5RlltUArwjLeN2W1QNxwBD5yZbVAHgECTsVltUCWfiD5K2a1QArnSCWgZrVAgmb7GxtntUDxx/D5lWe1QDXl3xwKaLVAfHYmh3FotUAkk2kyx2i1QOhNJEwHabVAjohPWS9ptUBBXZZAPmm1QHuPqjw0abVAi5oSuhJptUDiMRQl3Gi1QNagGK2TaLVAouwTAz1otUBDhyIY3Ge1QKzH1eB0Z7VAVQumIAtntUBAP90/oma1QDRGJi09ZrVALYjgSt5ltUDTsnZnh2W1QATiT785ZbVAZL6GBvZktUDEul94vGS1QKG6duqMZLVANHDC4WZktUBd68ynSWS1QELO0V40ZLVAYYfJEyZktUC48b3NHWS1QKM0EpoaZLVA1COqlRtktUBs7xLzH2S1QBw+9/0mZLVAIFNEHDBktUDEwHXNOmS1QPDOgqhGZLVAa8flWFNktUBwdiubYGS1QKwUajluZLVApzTsB3xktUA83UfiiWS1QIlIBamXZLVAeTnlP6VktUAUtMWMsmS1QH0HFne/ZLVA6BPB58tktUCsvW7J12S1QP5o+wjjZLVA97AFlu1ktUA7nXZj92S1QPaM7mcAZbVABAEInghltUCZjGgEEGW1QDTEnp0WZbVAfH7RbxxltUA+y0iEIWW1QFGJ2+YlZbVAt4hNpSlltUBY26nOLGW1QE7AxbtGZbXASwYU5UlltcC7rHGjTWW1wEyb5wVSZbXAOAk3GldltcD22jPsXGW1wEHjIoVjZbXAfK0n62pltcBIwM0gc2W1wE0/uCR8ZbXAfUqA8YVltcBsY8Z9kGW1wHShdbybZbXATukwnadltcDJPtsMtGW1wF5WJfbAZbXAfZ8EQs5ltcAF+fPX22W1wFL23J3pZbXAq72Kd/dltcCyjI1FBWa1wFb7f+MSZrXALfSsJSBmtcAGeSbWLGa1wKzDcLE4ZrXAcPL5YkNmtcAuzKqBTGa1wNat74xTZrXAxLyn6ldmtcC/UnLmWGa1wHKN1bJVZrXAN02zbE1mtcAEIXIhP2a1wGksJNgpZrXASOTNnQxmtcCVB7mU5mW1wA7mfQa3ZbXA0JkfeH1ltcCU2UK/OWW1wB0XMBfsZLXA0ZAANJVktcBmuxRSNmS1wIhJzD/RY7XAd9p4X2hjtcDIpraf/mK1wPEawmiXYrXAnhkJfjZitcAA6RbU32G1wLQIB1yXYbXAkZHRxmBhtcAvCOhDP2G1wIf+mj81YbXASJl8JkRhtcDwMkkzbGG1wPDis0ysYbXASAO69wFitcBVb9dhaWK1wBfnroTdYrXABMWZYlhjtcCO1ElZ02O1wOBbc4VHZLXATmGTMK5ktcCSZJFAAWW1wDFaYqA7ZbXAxcwPmVlltcAaFp0TWWW1wPPsH745ZbXAKNzTEP1ktcBq8LkypmS1wFtqLMA5ZLXA2iZleL1jtcDF8QfZN2O1wJpPG7CvYrXAWdVbrStitcCXhHr7sWG1wCFysehHYbXAAl1UpPFgtcDaSNUUsmC1wPHRX8eKYLXANW3w93tgtcA=",
          "dtype": "f8"
         }
        },
        {
         "fill": "toself",
         "fillcolor": "rgba(189,195,199,0.5)",
         "hoverinfo": "skip",
         "line": {
          "color": "rgba(200,200,200,0)"
         },
         "name": "mean plus/minus 2*standard deviation",
         "showlegend": true,
         "type": "scatter",
         "visible": true,
         "x": {
          "bdata": "AAAAAAAA8L/NzMzMzMzsv5qZmZmZmem/Z2ZmZmZm5r80MzMzMzPjvwEAAAAAAOC/nJmZmZmZ2b82MzMzMzPTv6CZmZmZmcm/qJmZmZmZub8AAAAAAACwvICZmZmZmbk/kJmZmZmZyT8wMzMzMzPTP5SZmZmZmdk/+P//////3z8wMzMzMzPjP2RmZmZmZuY/lpmZmZmZ6T/IzMzMzMzsP/z//////+8/mJmZmZmZ8T8wMzMzMzPzP8rMzMzMzPQ/ZGZmZmZm9j/+///////3P5iZmZmZmfk/MDMzMzMz+z/KzMzMzMz8P2RmZmZmZv4//P///////z/LzMzMzMwAQJiZmZmZmQFAZWZmZmZmAkAyMzMzMzMDQP7//////wNAy8zMzMzMBECYmZmZmZkFQGRmZmZmZgZAMTMzMzMzB0D+//////8HQMrMzMzMzAhAmJmZmZmZCUBkZmZmZmYKQDAzMzMzMwtA/v//////C0DKzMzMzMwMQJiZmZmZmQ1AZGZmZmZmDkAwMzMzMzMPQP7//////w9AZWZmZmZmEEDMzMzMzMwQQDIzMzMzMxFAmJmZmZmZEUD///////8RQGVmZmZmZhJAy8zMzMzMEkAyMzMzMzMTQJiZmZmZmRNA/v//////E0BlZmZmZmYUQMvMzMzMzBRAMjMzMzMzFUCYmZmZmZkVQP7//////xVAZWZmZmZmFkDLzMzMzMwWQDIzMzMzMxdAmJmZmZmZF0D+//////8XQGVmZmZmZhhAy8zMzMzMGEAxMzMzMzMZQJiZmZmZmRlA/v//////GUBkZmZmZmYaQMvMzMzMzBpAMTMzMzMzG0CYmZmZmZkbQJiZmZmZmRtAMTMzMzMzG0DLzMzMzMwaQGRmZmZmZhpA/v//////GUCYmZmZmZkZQDEzMzMzMxlAy8zMzMzMGEBlZmZmZmYYQP7//////xdAmJmZmZmZF0AyMzMzMzMXQMvMzMzMzBZAZWZmZmZmFkD+//////8VQJiZmZmZmRVAMjMzMzMzFUDLzMzMzMwUQGVmZmZmZhRA/v//////E0CYmZmZmZkTQDIzMzMzMxNAy8zMzMzMEkBlZmZmZmYSQP///////xFAmJmZmZmZEUAyMzMzMzMRQMzMzMzMzBBAZWZmZmZmEED+//////8PQDAzMzMzMw9AZGZmZmZmDkCYmZmZmZkNQMrMzMzMzAxA/v//////C0AwMzMzMzMLQGRmZmZmZgpAmJmZmZmZCUDKzMzMzMwIQP7//////wdAMTMzMzMzB0BkZmZmZmYGQJiZmZmZmQVAy8zMzMzMBED+//////8DQDIzMzMzMwNAZWZmZmZmAkCYmZmZmZkBQMvMzMzMzABA/P///////z9kZmZmZmb+P8rMzMzMzPw/MDMzMzMz+z+YmZmZmZn5P/7///////c/ZGZmZmZm9j/KzMzMzMz0PzAzMzMzM/M/mJmZmZmZ8T/8///////vP8jMzMzMzOw/lpmZmZmZ6T9kZmZmZmbmPzAzMzMzM+M/+P//////3z+UmZmZmZnZPzAzMzMzM9M/kJmZmZmZyT+AmZmZmZm5PwAAAAAAALC8qJmZmZmZub+gmZmZmZnJvzYzMzMzM9O/nJmZmZmZ2b8BAAAAAADgvzQzMzMzM+O/Z2ZmZmZm5r+amZmZmZnpv83MzMzMzOy/AAAAAAAA8L8=",
          "dtype": "f8"
         },
         "y": {
          "bdata": "8i1lpZhnxUBuMQ49kWfFQIGEypV9Z8VAzd6bzV1nxUCD/xirMmfFQHZSeaH9ZsVA1gtjyMBmxUAxPe7GfmbFQBwTbrI6ZsVASQ684vdlxUCE19e+uWXFQFUwkYWDZcVAZzWEFlhlxUA4Ft6/OWXFQGO2HxUqZcVAiQhn0illxUAtqL7OOGXFQMmtp/5VZcVAKlmmhn9lxUDoNTXcsmXFQGsiSfLsZcVAIv6ibSpmxUC6T6DcZ2bFQL3HHe6hZsVAr1lLo9VmxUAXJ/x4AGfFQCqH7YUgZ8VAvcyajDRnxUCShVcAPGfFQKjtef42Z8VATFhCPSZnxUCW59DyCmfFQOAy2LbmZsVA4TfRYbtmxUAvbErsimbFQHP/jVBXZsVAHb9acCJmxUDSAdn/7WXFQIHjYXa7ZcVAVoooBYxlxUDmC2WTYGXFQOifTL85ZcVAP/Xs4hdlxUCXRecb+2TFQN5NB1XjZMVAOU3FUNBkxUCgu+KzwWTFQPPieQ+3ZMVA1vgD6q9kxUCn2APHq2TFQCo8Ki2qZMVAEIrpqqpkxUAHH4rZrGTFQKAh5F6wZMVA9Lrx7bRkxUB+gXRGumTFQHW56zPAZMVAm5IXjMZkxUCpl0AtzWTFQK3ycvzTZMVA6NbT49pkxUCCIy3R4WTFQKj0wLToZMVA+hJtgO9kxUCnnB0n9mTFQFBVh5z8ZMVAQgkd1QJlxUCedjDGCGXFQJknLmYOZcVAWFfkrBNlxUDABceTGGXFQMpZJhYdZcVAIuxPMSFlxUBDIpfkJGXFQOUJRDEoZcVAK+FqGitlxUBBf7CkLWXFQCwSAdYvZcVAHCg/tTFlxUCV1PBJM2XFQBHHfkBAZcXA5mYi1UFlxcDgI0y0Q2XFwEnnf+VFZcXAiaadb0hlxcBFlY5YS2XFwJdN9KROZcXAXsLfV1JlxcB085VyVmXFwMjWZ/RaZcXAHKSh2l9lxcDRpJMgZWXFwILos79qZcXA9PPUr3BlxcD28GnndmXFwMttzVt9ZcXA/MV8AYRlxcDmTDjMimXFwAyw966RZcXAahujm5hlxcCxroSCn2XFwB3aalGmZcXA/Sh78qxlxcCBjr1Ks2XFwPICcji5ZcXAnIpMkb5lxcCq6L0gw2XFwDt+eKbGZcXAiFZo1chlxcA4S1pTyWXFwIOmj7nHZcXAwtt4lsNlxcBTDMpwvGXFwCZcDsyxZcXAQwfLLqNlxcBYdCgqkGXFwDtb9mJ4ZcXA9WK5m1tlxcCwG0a/OWXFwAq+QesSZcXAqI64eedkxcAZHtkIuGTFwPaG0H+FZMXArybED1FkxcABb/4vHGTFwAU2mpToY8XAX85LH7hjxcD2VlfKjGPFwABTSo5oY8XA0NOhQ01jxcACqhiCPGPFwDbW2X83Y8XAGVUx8z5jxcCu+X/5UmPFwP1OIQZzY8XAFSCV251jxcDNjJmQ0WPFwE5f/6ELZMXAZC3yEElkxcAtmUmMhmTFwI6kXqLAZMXAQgnv9/NkxcClJ+5/HWXFwC901q86ZcXAseAsrEllxcCHS3NpSWXFwGCltL45ZcXAk6QOaBtlxcBjsAH572TFwBTkur+5ZMXA/3PXm3tkxcDi/CnMOGTFwCH0trf0Y8XA2DxetrJjxcCMHnrddWPFwO1LKdRAY8XAm90WshVjxcC9XHzq9WLFwBpH70PiYsXAdK1s3NpixcA=",
          "dtype": "f8"
         }
        },
        {
         "fill": "toself",
         "fillcolor": "rgba(189,195,199,0.5)",
         "hoverinfo": "skip",
         "line": {
          "color": "rgba(200,200,200,0)"
         },
         "name": "mean plus/minus 3*standard deviation",
         "showlegend": true,
         "type": "scatter",
         "visible": true,
         "x": {
          "bdata": "AAAAAAAA8L/NzMzMzMzsv5qZmZmZmem/Z2ZmZmZm5r80MzMzMzPjvwEAAAAAAOC/nJmZmZmZ2b82MzMzMzPTv6CZmZmZmcm/qJmZmZmZub8AAAAAAACwvICZmZmZmbk/kJmZmZmZyT8wMzMzMzPTP5SZmZmZmdk/+P//////3z8wMzMzMzPjP2RmZmZmZuY/lpmZmZmZ6T/IzMzMzMzsP/z//////+8/mJmZmZmZ8T8wMzMzMzPzP8rMzMzMzPQ/ZGZmZmZm9j/+///////3P5iZmZmZmfk/MDMzMzMz+z/KzMzMzMz8P2RmZmZmZv4//P///////z/LzMzMzMwAQJiZmZmZmQFAZWZmZmZmAkAyMzMzMzMDQP7//////wNAy8zMzMzMBECYmZmZmZkFQGRmZmZmZgZAMTMzMzMzB0D+//////8HQMrMzMzMzAhAmJmZmZmZCUBkZmZmZmYKQDAzMzMzMwtA/v//////C0DKzMzMzMwMQJiZmZmZmQ1AZGZmZmZmDkAwMzMzMzMPQP7//////w9AZWZmZmZmEEDMzMzMzMwQQDIzMzMzMxFAmJmZmZmZEUD///////8RQGVmZmZmZhJAy8zMzMzMEkAyMzMzMzMTQJiZmZmZmRNA/v//////E0BlZmZmZmYUQMvMzMzMzBRAMjMzMzMzFUCYmZmZmZkVQP7//////xVAZWZmZmZmFkDLzMzMzMwWQDIzMzMzMxdAmJmZmZmZF0D+//////8XQGVmZmZmZhhAy8zMzMzMGEAxMzMzMzMZQJiZmZmZmRlA/v//////GUBkZmZmZmYaQMvMzMzMzBpAMTMzMzMzG0CYmZmZmZkbQJiZmZmZmRtAMTMzMzMzG0DLzMzMzMwaQGRmZmZmZhpA/v//////GUCYmZmZmZkZQDEzMzMzMxlAy8zMzMzMGEBlZmZmZmYYQP7//////xdAmJmZmZmZF0AyMzMzMzMXQMvMzMzMzBZAZWZmZmZmFkD+//////8VQJiZmZmZmRVAMjMzMzMzFUDLzMzMzMwUQGVmZmZmZhRA/v//////E0CYmZmZmZkTQDIzMzMzMxNAy8zMzMzMEkBlZmZmZmYSQP///////xFAmJmZmZmZEUAyMzMzMzMRQMzMzMzMzBBAZWZmZmZmEED+//////8PQDAzMzMzMw9AZGZmZmZmDkCYmZmZmZkNQMrMzMzMzAxA/v//////C0AwMzMzMzMLQGRmZmZmZgpAmJmZmZmZCUDKzMzMzMwIQP7//////wdAMTMzMzMzB0BkZmZmZmYGQJiZmZmZmQVAy8zMzMzMBED+//////8DQDIzMzMzMwNAZWZmZmZmAkCYmZmZmZkBQMvMzMzMzABA/P///////z9kZmZmZmb+P8rMzMzMzPw/MDMzMzMz+z+YmZmZmZn5P/7///////c/ZGZmZmZm9j/KzMzMzMz0PzAzMzMzM/M/mJmZmZmZ8T/8///////vP8jMzMzMzOw/lpmZmZmZ6T9kZmZmZmbmPzAzMzMzM+M/+P//////3z+UmZmZmZnZPzAzMzMzM9M/kJmZmZmZyT+AmZmZmZm5PwAAAAAAALC8qJmZmZmZub+gmZmZmZnJvzYzMzMzM9O/nJmZmZmZ2b8BAAAAAADgvzQzMzMzM+O/Z2ZmZmZm5r+amZmZmZnpv83MzMzMzOy/AAAAAAAA8L8=",
          "dtype": "f8"
         },
         "y": {
          "bdata": "ZdLswhoN0EDIx6YOFw3QQGge7joNDdBA80bEVv0M0EAwyXTF5wzQQFsXm0DNDNBAAK8J1K4M0EDDxEvTjQzQQI0LCslrDNBAbncwYUoM0EA1Qz5PKwzQQEL0mjIQDNBA83UUe/oL0ECPYsFP6wvQQG87YnrjC9BAbAEGWeML0ECh9zHX6gvQQJKRJm/5C9BA4tglMw4M0EBDFu3dJwzQQKno9uhEDNBAgiSkpmMM0EC+HSReggzQQHDO5WafDNBAEbyBQbkM0EBOwmGszgzQQLBz5LLeDNBAmepGtugM0EBC7jFw7AzQQMlJT+/pDNBAqbG9juEM0EAe24vp0wzQQKsKksvBDNBAuDwMIawM0EBeykHmkwzQQIiNWBh6DNBASDwxqF8M0EACsuFvRQzQQPRRGCssDNBAS2hwchQM0EAxX4e5/gvQQGeneE/rC9BAp0VLYdoL0EDmVs/9ywvQQDWfaRrAC9BALLFUmLYL0EDIgO9JrwvQQGJvxfepC9BA/pYRZaYL0EA5XJRTpAvQQAGvpYajC9BAGwF/xaML0EAsY8XcpAvQQBpSZp+mC9BALKbg5qgL0EBNEReTqwvQQLkFy4muC9BAwSDetbEL0EANunUGtQvQQIJtGG64C9BAv8nY4bsL0EAyLJtYvwvQQIaif8rCC9BAm8RzMMYL0ECiL+yDyQvQQHHTwb7MC9BAR8Qs288L0EAzx9TT0gvQQFpN76PVC9BAG+tiR9gL0EBxXum62gvQQI22KvzcC9BA4evNCd8L0EAd/3zj4AvQQNhY3IniC9BAjIF2/uML0EByTJ5D5QvQQNcvSlzmC9BA7sXrS+cL0EC/XUYW6AvQQP1WjZHuC9DAVGXdW+8L0MCxuG9L8AvQwHYABmTxC9DAPOQPqfIL0MCInoEd9AvQwMeUq8P1C9DA/9YVnfcL0MBhg2Kq+QvQwPXGOev7C9DAfZFBXv4L0MD2CyIBAQzQwCWAltADDNDAobmIyAYM0MBDITPkCQzQwDQYRB4NDNDAHZ77cBAM0MCkTjvWEwzQwHhygEcXDNDA/2vAvRoM0MCESyExHgzQwEfbipghDNDA8esP6SQM0MA/8DMVKAzQwAfSFQwrDNDAAA6OuC0M0MCeNVMAMAzQwMaSPMMxDNDAV2e+2jIM0MCJtr0ZMwzQwCdD2kwyDNDAdAhMOzAM0MAShG2oLAzQwAxRBVYnDNDAMI5XByAM0MBzMvqEFgzQwLjhVqEKDNDAgXyxPfwL0MBLZXVP6wvQwEO4deXXC9DAc2q4LMIL0MBA71N0qgvQwJR03S+RC9DAEPDl93YL0MBQxRCIXAvQwEqvabpCC9DA+IfJfyoL0MC1nFHVFAvQwNKQSLcCC9DAa2/tEfUK0MD3px6x7ArQwJQW8y/qCtDAxy6S6e0K0MDyrK3s9wrQwEJW9PIHC9DAQ5+mXR0L0MD4sCM4NwvQwIil00BUC9DAIrxL+HIL0MAJJPe1kQvQwJXNAcGuC9DA7jDKa8gL0MCAzskv3QvQwKPdvcfrC9DAgO3oRfML0MABBowk8wvQwCOqLE/rC9DAia3ZI9wL0MBINFNsxgvQwH3Jr0+rC9DASCq+PYwL0MBxAOjVagvQwDsgsMtIC9DAgkcHyycL0MBnfZteCQvQwGTv/NnuCtDAW8YBSdkK0MCGCkdlyQrQwJ5SF5K/CtDAJ5Jw3rsK0MA=",
          "dtype": "f8"
         }
        },
        {
         "line": {
          "color": "blue",
          "width": 2
         },
         "name": "Predicted function",
         "showlegend": true,
         "type": "scatter",
         "visible": true,
         "x": {
          "bdata": "AAAAAAAA8L/NzMzMzMzsv5qZmZmZmem/Z2ZmZmZm5r80MzMzMzPjvwEAAAAAAOC/nJmZmZmZ2b82MzMzMzPTv6CZmZmZmcm/qJmZmZmZub8AAAAAAACwvICZmZmZmbk/kJmZmZmZyT8wMzMzMzPTP5SZmZmZmdk/+P//////3z8wMzMzMzPjP2RmZmZmZuY/lpmZmZmZ6T/IzMzMzMzsP/z//////+8/mJmZmZmZ8T8wMzMzMzPzP8rMzMzMzPQ/ZGZmZmZm9j/+///////3P5iZmZmZmfk/MDMzMzMz+z/KzMzMzMz8P2RmZmZmZv4//P///////z/LzMzMzMwAQJiZmZmZmQFAZWZmZmZmAkAyMzMzMzMDQP7//////wNAy8zMzMzMBECYmZmZmZkFQGRmZmZmZgZAMTMzMzMzB0D+//////8HQMrMzMzMzAhAmJmZmZmZCUBkZmZmZmYKQDAzMzMzMwtA/v//////C0DKzMzMzMwMQJiZmZmZmQ1AZGZmZmZmDkAwMzMzMzMPQP7//////w9AZWZmZmZmEEDMzMzMzMwQQDIzMzMzMxFAmJmZmZmZEUD///////8RQGVmZmZmZhJAy8zMzMzMEkAyMzMzMzMTQJiZmZmZmRNA/v//////E0BlZmZmZmYUQMvMzMzMzBRAMjMzMzMzFUCYmZmZmZkVQP7//////xVAZWZmZmZmFkDLzMzMzMwWQDIzMzMzMxdAmJmZmZmZF0D+//////8XQGVmZmZmZhhAy8zMzMzMGEAxMzMzMzMZQJiZmZmZmRlA/v//////GUBkZmZmZmYaQMvMzMzMzBpAMTMzMzMzG0CYmZmZmZkbQA==",
          "dtype": "f8"
         },
         "y": {
          "bdata": "TvcB4iP3EkCHTal75LsSQBQTnzitHhJAzccEFG4gEUDWt5x9t44PQC5Nn/kfPgxAtu53JpBwCEBve0i6eVAEQPrNsSAyDwBANaOkSW7E9z/2G26e4//vP3ND/u+RceI/lmpqyDpXzj/1yLiIDZfyPvqnJJVTVL+/X68n2MXZv78guivAfBF+vyJ1EsNcP8w/AwP96dZx4T8nXivSOkfuP6Xlk/hfZvY/gesLDcsV/j+7Z4MH1eECQLuC1yHsggZAo9HMsT2+CUBOzsDWlmsMQOXha2xjbA5A/hm9S8usD0DJcr32ARIQQJQsHQrj0w9AFucjBM3HDkDXt6Q0JBMNQBRX3wZkzwpAiA5MKxQaCEAVSbGBvRIFQKCOg3wE2QFAne+GaQkW/T+Cua2HAIj2P9R2VozYNvA/dsl1/22R5D9aw3bTCGrTPwcV4DzgEJo+DHRtGzPu0L/bN2nFw1Hfv3RBzySkmuW/RzFBt8Bb6r8CyhB0BQPuv08PlgIVVvC/aLcuTsc68b+vy928KL/xv0jn8ABj8vG/wXjH7Kfi8b+VSvPlzpzxv26WcJwdLPG/VID6rDWa8L/XfS6wP97vv2pioTraYu6/8ynMcszM7L+UZ05IhSTrvzFmgDfCcOm/NjiQ6Pm2579NX5FRufvlvz68B+vuQuS/BEZg9iGQ4r+yliT6lebgv+xt6aa4kt6/QrWs+q1227/D63jcYH7Yv13STV+ZrtW/et8wU28L07/AJkI0KJjQv5Oo1Mw3rsy/jDge60eTyL/FEaqVLuDEv+51sEWlk8G/5SVexTJVvb9lZgdoz0C4v9GStBFL3rO/NlDKPuMfsL8SyfbkG+2pvw==",
          "dtype": "f8"
         }
        },
        {
         "marker": {
          "color": "red",
          "size": 8
         },
         "mode": "markers",
         "name": "Observed points",
         "showlegend": true,
         "type": "scatter",
         "visible": true,
         "x": {
          "bdata": "AAAAAAAAAAAzMzMzMzPTPwAAAAAAAPA/zczMzMzMCEDNzMzMzMwSQA==",
          "dtype": "f8"
         },
         "y": {
          "bdata": "AAAAAAAA8D8AAAAAAAAAAGZmZmZmZvY/AAAAAAAAAADNzMzMzMzsvw==",
          "dtype": "f8"
         }
        }
       ],
       "layout": {
        "autosize": false,
        "height": 600,
        "legend": {
         "x": 0.95,
         "xanchor": "right",
         "y": 0.9,
         "yanchor": "top"
        },
        "plot_bgcolor": "rgba(0,0,0,0)",
        "template": {
         "data": {
          "bar": [
           {
            "error_x": {
             "color": "#2a3f5f"
            },
            "error_y": {
             "color": "#2a3f5f"
            },
            "marker": {
             "line": {
              "color": "#E5ECF6",
              "width": 0.5
             },
             "pattern": {
              "fillmode": "overlay",
              "size": 10,
              "solidity": 0.2
             }
            },
            "type": "bar"
           }
          ],
          "barpolar": [
           {
            "marker": {
             "line": {
              "color": "#E5ECF6",
              "width": 0.5
             },
             "pattern": {
              "fillmode": "overlay",
              "size": 10,
              "solidity": 0.2
             }
            },
            "type": "barpolar"
           }
          ],
          "carpet": [
           {
            "aaxis": {
             "endlinecolor": "#2a3f5f",
             "gridcolor": "white",
             "linecolor": "white",
             "minorgridcolor": "white",
             "startlinecolor": "#2a3f5f"
            },
            "baxis": {
             "endlinecolor": "#2a3f5f",
             "gridcolor": "white",
             "linecolor": "white",
             "minorgridcolor": "white",
             "startlinecolor": "#2a3f5f"
            },
            "type": "carpet"
           }
          ],
          "choropleth": [
           {
            "colorbar": {
             "outlinewidth": 0,
             "ticks": ""
            },
            "type": "choropleth"
           }
          ],
          "contour": [
           {
            "colorbar": {
             "outlinewidth": 0,
             "ticks": ""
            },
            "colorscale": [
             [
              0,
              "#0d0887"
             ],
             [
              0.1111111111111111,
              "#46039f"
             ],
             [
              0.2222222222222222,
              "#7201a8"
             ],
             [
              0.3333333333333333,
              "#9c179e"
             ],
             [
              0.4444444444444444,
              "#bd3786"
             ],
             [
              0.5555555555555556,
              "#d8576b"
             ],
             [
              0.6666666666666666,
              "#ed7953"
             ],
             [
              0.7777777777777778,
              "#fb9f3a"
             ],
             [
              0.8888888888888888,
              "#fdca26"
             ],
             [
              1,
              "#f0f921"
             ]
            ],
            "type": "contour"
           }
          ],
          "contourcarpet": [
           {
            "colorbar": {
             "outlinewidth": 0,
             "ticks": ""
            },
            "type": "contourcarpet"
           }
          ],
          "heatmap": [
           {
            "colorbar": {
             "outlinewidth": 0,
             "ticks": ""
            },
            "colorscale": [
             [
              0,
              "#0d0887"
             ],
             [
              0.1111111111111111,
              "#46039f"
             ],
             [
              0.2222222222222222,
              "#7201a8"
             ],
             [
              0.3333333333333333,
              "#9c179e"
             ],
             [
              0.4444444444444444,
              "#bd3786"
             ],
             [
              0.5555555555555556,
              "#d8576b"
             ],
             [
              0.6666666666666666,
              "#ed7953"
             ],
             [
              0.7777777777777778,
              "#fb9f3a"
             ],
             [
              0.8888888888888888,
              "#fdca26"
             ],
             [
              1,
              "#f0f921"
             ]
            ],
            "type": "heatmap"
           }
          ],
          "histogram": [
           {
            "marker": {
             "pattern": {
              "fillmode": "overlay",
              "size": 10,
              "solidity": 0.2
             }
            },
            "type": "histogram"
           }
          ],
          "histogram2d": [
           {
            "colorbar": {
             "outlinewidth": 0,
             "ticks": ""
            },
            "colorscale": [
             [
              0,
              "#0d0887"
             ],
             [
              0.1111111111111111,
              "#46039f"
             ],
             [
              0.2222222222222222,
              "#7201a8"
             ],
             [
              0.3333333333333333,
              "#9c179e"
             ],
             [
              0.4444444444444444,
              "#bd3786"
             ],
             [
              0.5555555555555556,
              "#d8576b"
             ],
             [
              0.6666666666666666,
              "#ed7953"
             ],
             [
              0.7777777777777778,
              "#fb9f3a"
             ],
             [
              0.8888888888888888,
              "#fdca26"
             ],
             [
              1,
              "#f0f921"
             ]
            ],
            "type": "histogram2d"
           }
          ],
          "histogram2dcontour": [
           {
            "colorbar": {
             "outlinewidth": 0,
             "ticks": ""
            },
            "colorscale": [
             [
              0,
              "#0d0887"
             ],
             [
              0.1111111111111111,
              "#46039f"
             ],
             [
              0.2222222222222222,
              "#7201a8"
             ],
             [
              0.3333333333333333,
              "#9c179e"
             ],
             [
              0.4444444444444444,
              "#bd3786"
             ],
             [
              0.5555555555555556,
              "#d8576b"
             ],
             [
              0.6666666666666666,
              "#ed7953"
             ],
             [
              0.7777777777777778,
              "#fb9f3a"
             ],
             [
              0.8888888888888888,
              "#fdca26"
             ],
             [
              1,
              "#f0f921"
             ]
            ],
            "type": "histogram2dcontour"
           }
          ],
          "mesh3d": [
           {
            "colorbar": {
             "outlinewidth": 0,
             "ticks": ""
            },
            "type": "mesh3d"
           }
          ],
          "parcoords": [
           {
            "line": {
             "colorbar": {
              "outlinewidth": 0,
              "ticks": ""
             }
            },
            "type": "parcoords"
           }
          ],
          "pie": [
           {
            "automargin": true,
            "type": "pie"
           }
          ],
          "scatter": [
           {
            "fillpattern": {
             "fillmode": "overlay",
             "size": 10,
             "solidity": 0.2
            },
            "type": "scatter"
           }
          ],
          "scatter3d": [
           {
            "line": {
             "colorbar": {
              "outlinewidth": 0,
              "ticks": ""
             }
            },
            "marker": {
             "colorbar": {
              "outlinewidth": 0,
              "ticks": ""
             }
            },
            "type": "scatter3d"
           }
          ],
          "scattercarpet": [
           {
            "marker": {
             "colorbar": {
              "outlinewidth": 0,
              "ticks": ""
             }
            },
            "type": "scattercarpet"
           }
          ],
          "scattergeo": [
           {
            "marker": {
             "colorbar": {
              "outlinewidth": 0,
              "ticks": ""
             }
            },
            "type": "scattergeo"
           }
          ],
          "scattergl": [
           {
            "marker": {
             "colorbar": {
              "outlinewidth": 0,
              "ticks": ""
             }
            },
            "type": "scattergl"
           }
          ],
          "scattermap": [
           {
            "marker": {
             "colorbar": {
              "outlinewidth": 0,
              "ticks": ""
             }
            },
            "type": "scattermap"
           }
          ],
          "scattermapbox": [
           {
            "marker": {
             "colorbar": {
              "outlinewidth": 0,
              "ticks": ""
             }
            },
            "type": "scattermapbox"
           }
          ],
          "scatterpolar": [
           {
            "marker": {
             "colorbar": {
              "outlinewidth": 0,
              "ticks": ""
             }
            },
            "type": "scatterpolar"
           }
          ],
          "scatterpolargl": [
           {
            "marker": {
             "colorbar": {
              "outlinewidth": 0,
              "ticks": ""
             }
            },
            "type": "scatterpolargl"
           }
          ],
          "scatterternary": [
           {
            "marker": {
             "colorbar": {
              "outlinewidth": 0,
              "ticks": ""
             }
            },
            "type": "scatterternary"
           }
          ],
          "surface": [
           {
            "colorbar": {
             "outlinewidth": 0,
             "ticks": ""
            },
            "colorscale": [
             [
              0,
              "#0d0887"
             ],
             [
              0.1111111111111111,
              "#46039f"
             ],
             [
              0.2222222222222222,
              "#7201a8"
             ],
             [
              0.3333333333333333,
              "#9c179e"
             ],
             [
              0.4444444444444444,
              "#bd3786"
             ],
             [
              0.5555555555555556,
              "#d8576b"
             ],
             [
              0.6666666666666666,
              "#ed7953"
             ],
             [
              0.7777777777777778,
              "#fb9f3a"
             ],
             [
              0.8888888888888888,
              "#fdca26"
             ],
             [
              1,
              "#f0f921"
             ]
            ],
            "type": "surface"
           }
          ],
          "table": [
           {
            "cells": {
             "fill": {
              "color": "#EBF0F8"
             },
             "line": {
              "color": "white"
             }
            },
            "header": {
             "fill": {
              "color": "#C8D4E3"
             },
             "line": {
              "color": "white"
             }
            },
            "type": "table"
           }
          ]
         },
         "layout": {
          "annotationdefaults": {
           "arrowcolor": "#2a3f5f",
           "arrowhead": 0,
           "arrowwidth": 1
          },
          "autotypenumbers": "strict",
          "coloraxis": {
           "colorbar": {
            "outlinewidth": 0,
            "ticks": ""
           }
          },
          "colorscale": {
           "diverging": [
            [
             0,
             "#8e0152"
            ],
            [
             0.1,
             "#c51b7d"
            ],
            [
             0.2,
             "#de77ae"
            ],
            [
             0.3,
             "#f1b6da"
            ],
            [
             0.4,
             "#fde0ef"
            ],
            [
             0.5,
             "#f7f7f7"
            ],
            [
             0.6,
             "#e6f5d0"
            ],
            [
             0.7,
             "#b8e186"
            ],
            [
             0.8,
             "#7fbc41"
            ],
            [
             0.9,
             "#4d9221"
            ],
            [
             1,
             "#276419"
            ]
           ],
           "sequential": [
            [
             0,
             "#0d0887"
            ],
            [
             0.1111111111111111,
             "#46039f"
            ],
            [
             0.2222222222222222,
             "#7201a8"
            ],
            [
             0.3333333333333333,
             "#9c179e"
            ],
            [
             0.4444444444444444,
             "#bd3786"
            ],
            [
             0.5555555555555556,
             "#d8576b"
            ],
            [
             0.6666666666666666,
             "#ed7953"
            ],
            [
             0.7777777777777778,
             "#fb9f3a"
            ],
            [
             0.8888888888888888,
             "#fdca26"
            ],
            [
             1,
             "#f0f921"
            ]
           ],
           "sequentialminus": [
            [
             0,
             "#0d0887"
            ],
            [
             0.1111111111111111,
             "#46039f"
            ],
            [
             0.2222222222222222,
             "#7201a8"
            ],
            [
             0.3333333333333333,
             "#9c179e"
            ],
            [
             0.4444444444444444,
             "#bd3786"
            ],
            [
             0.5555555555555556,
             "#d8576b"
            ],
            [
             0.6666666666666666,
             "#ed7953"
            ],
            [
             0.7777777777777778,
             "#fb9f3a"
            ],
            [
             0.8888888888888888,
             "#fdca26"
            ],
            [
             1,
             "#f0f921"
            ]
           ]
          },
          "colorway": [
           "#636efa",
           "#EF553B",
           "#00cc96",
           "#ab63fa",
           "#FFA15A",
           "#19d3f3",
           "#FF6692",
           "#B6E880",
           "#FF97FF",
           "#FECB52"
          ],
          "font": {
           "color": "#2a3f5f"
          },
          "geo": {
           "bgcolor": "white",
           "lakecolor": "white",
           "landcolor": "#E5ECF6",
           "showlakes": true,
           "showland": true,
           "subunitcolor": "white"
          },
          "hoverlabel": {
           "align": "left"
          },
          "hovermode": "closest",
          "mapbox": {
           "style": "light"
          },
          "paper_bgcolor": "white",
          "plot_bgcolor": "#E5ECF6",
          "polar": {
           "angularaxis": {
            "gridcolor": "white",
            "linecolor": "white",
            "ticks": ""
           },
           "bgcolor": "#E5ECF6",
           "radialaxis": {
            "gridcolor": "white",
            "linecolor": "white",
            "ticks": ""
           }
          },
          "scene": {
           "xaxis": {
            "backgroundcolor": "#E5ECF6",
            "gridcolor": "white",
            "gridwidth": 2,
            "linecolor": "white",
            "showbackground": true,
            "ticks": "",
            "zerolinecolor": "white"
           },
           "yaxis": {
            "backgroundcolor": "#E5ECF6",
            "gridcolor": "white",
            "gridwidth": 2,
            "linecolor": "white",
            "showbackground": true,
            "ticks": "",
            "zerolinecolor": "white"
           },
           "zaxis": {
            "backgroundcolor": "#E5ECF6",
            "gridcolor": "white",
            "gridwidth": 2,
            "linecolor": "white",
            "showbackground": true,
            "ticks": "",
            "zerolinecolor": "white"
           }
          },
          "shapedefaults": {
           "line": {
            "color": "#2a3f5f"
           }
          },
          "ternary": {
           "aaxis": {
            "gridcolor": "white",
            "linecolor": "white",
            "ticks": ""
           },
           "baxis": {
            "gridcolor": "white",
            "linecolor": "white",
            "ticks": ""
           },
           "bgcolor": "#E5ECF6",
           "caxis": {
            "gridcolor": "white",
            "linecolor": "white",
            "ticks": ""
           }
          },
          "title": {
           "x": 0.05
          },
          "xaxis": {
           "automargin": true,
           "gridcolor": "white",
           "linecolor": "white",
           "ticks": "",
           "title": {
            "standoff": 15
           },
           "zerolinecolor": "white",
           "zerolinewidth": 2
          },
          "yaxis": {
           "automargin": true,
           "gridcolor": "white",
           "linecolor": "white",
           "ticks": "",
           "title": {
            "standoff": 15
           },
           "zerolinecolor": "white",
           "zerolinewidth": 2
          }
         }
        },
        "title": {
         "text": "GPR with length 1, sigma 0 and noise 0",
         "x": 0.5,
         "xanchor": "center"
        },
        "width": 800,
        "xaxis": {
         "linecolor": "black",
         "linewidth": 1,
         "showline": true,
         "title": {
          "text": "input values"
         }
        },
        "yaxis": {
         "linecolor": "black",
         "linewidth": 1,
         "showline": true,
         "title": {
          "text": "output values"
         }
        }
       }
      }
     },
     "metadata": {},
     "output_type": "display_data"
    }
   ],
   "source": [
    "model = GPR(x_values, y_values)\n",
    "data = plot_GPR(data_x=x_values, data_y=y_values, x=x, model=model)\n",
    "fig4 = go.Figure(data=data)\n",
    "fig4 = update_layout_of_graph(fig=fig4,\n",
    "                              title='GPR with length 1, sigma 0 and noise 0')\n",
    "\n",
    "fig4.show()"
   ]
  }
 ],
 "metadata": {
  "kernelspec": {
   "display_name": ".venv",
   "language": "python",
   "name": "python3"
  },
  "language_info": {
   "codemirror_mode": {
    "name": "ipython",
    "version": 3
   },
   "file_extension": ".py",
   "mimetype": "text/x-python",
   "name": "python",
   "nbconvert_exporter": "python",
   "pygments_lexer": "ipython3",
   "version": "3.12.8"
  }
 },
 "nbformat": 4,
 "nbformat_minor": 5
}
